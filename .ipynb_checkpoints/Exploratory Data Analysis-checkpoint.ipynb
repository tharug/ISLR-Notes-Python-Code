{
 "cells": [
  {
   "cell_type": "code",
   "execution_count": 1,
   "metadata": {
    "collapsed": true
   },
   "outputs": [],
   "source": [
    "import numpy as np\n",
    "import pandas as pd\n",
    "import scipy.stats as stats \n",
    "\n",
    "import matplotlib.pyplot as plt\n",
    "import seaborn as sns"
   ]
  },
  {
   "cell_type": "code",
   "execution_count": 2,
   "metadata": {},
   "outputs": [
    {
     "data": {
      "text/plain": [
       "'%.3f'"
      ]
     },
     "execution_count": 2,
     "metadata": {},
     "output_type": "execute_result"
    }
   ],
   "source": [
    "%precision 3"
   ]
  },
  {
   "cell_type": "code",
   "execution_count": 3,
   "metadata": {
    "collapsed": true
   },
   "outputs": [],
   "source": [
    "%matplotlib inline\n",
    "\n",
    "# Set default Seaborn style\n",
    "sns.set(style='whitegrid', palette='muted')"
   ]
  },
  {
   "cell_type": "markdown",
   "metadata": {},
   "source": [
    "<H1>Estimates of Location</H1>\n",
    "<H2>Mean</H2>\n",
    "**_Mean_**,sometimes called the average, is a common way to measure the center of a distribution of data and is computed as the sum of all observations divided by the number of observations.\n",
    "\n",
    "$$\\large\\bar x=\\frac{\\sum_{i=1}^n x_i}{n}$$\n",
    "\n",
    "**_Trimmed mean_** is a variation of the mean, which is calculated a fixed number of values from each end of the sorted data set\n",
    "\n",
    "$$\\large\\bar x=\\frac{\\sum_{i=p+1}^{n-p} x_i}{n-2p}$$\n",
    "\n",
    "The trimmed mean eliminates the influence of extrame values\n",
    "\n",
    "**_Weighted mean_** is calculated by multiplying each data \n",
    "value $x_i$ by $w_i$ and dividing their sum by the sum of the weights  \n",
    "$$\\large\\bar x=\\frac{\\sum_{i=1}^{n} {x_iw_i}}{\\sum_{i=1}^nw_i}$$\n",
    "\n",
    "** Why use weighted mean: **<br>\n",
    "1. Some values are intrinsically more variable than others, and highly variable observations are given lower weights\n",
    "2. Data collected does not equally represent the different groups that in the population. Higher weight can be given a higher weight to values from the groups that are underrepresented."
   ]
  },
  {
   "cell_type": "code",
   "execution_count": 5,
   "metadata": {},
   "outputs": [],
   "source": [
    "email=pd.read_csv('./Data/email50.csv',parse_dates=['time'])"
   ]
  },
  {
   "cell_type": "code",
   "execution_count": 6,
   "metadata": {},
   "outputs": [
    {
     "data": {
      "image/png": "[encoded data removed]",
      "text/plain": [
       "<matplotlib.figure.Figure at 0x8da86d0>"
      ]
     },
     "metadata": {},
     "output_type": "display_data"
    }
   ],
   "source": [
    "# Plot the variable 'num_char' in email dataset\n",
    "plt.figure(figsize=(10,1))\n",
    "sns.stripplot(email['num_char'],alpha=0.3,s=20,linewidth=1)\n",
    "\n",
    "plt.vlines(x=email['num_char'].mean(),ymin=-.5,ymax=.5,colors='r');   # Add vertical line to show the mean"
   ]
  },
  {
   "cell_type": "code",
   "execution_count": 8,
   "metadata": {},
   "outputs": [
    {
     "name": "stdout",
     "output_type": "stream",
     "text": [
      "Average number of characters per email\t\t: 11.59822\n",
      "Maximum number of characters in an email\t: 64.401\n",
      "Minimum number of characters in an email\t: 0.057\n"
     ]
    }
   ],
   "source": [
    "print ('Average number of characters per email\\t\\t:',email['num_char'].mean())\n",
    "print ('Maximum number of characters in an email\\t:',email['num_char'].max())\n",
    "print ('Minimum number of characters in an email\\t:',email['num_char'].min())"
   ]
  },
  {
   "cell_type": "code",
   "execution_count": 7,
   "metadata": {},
   "outputs": [
    {
     "name": "stdout",
     "output_type": "stream",
     "text": [
      "Trimmed mean of characters per email after trimming 5% of data from the tail\t: 10.273347826086956\n"
     ]
    }
   ],
   "source": [
    "print ('Trimmed mean of characters per email after trimming 5% of data from the tail\\t:',stats.trim_mean(email['num_char'],.05))"
   ]
  },
  {
   "cell_type": "markdown",
   "metadata": {},
   "source": [
    "<h3>Frequency Table</h3>"
   ]
  },
  {
   "cell_type": "code",
   "execution_count": 8,
   "metadata": {
    "collapsed": true
   },
   "outputs": [],
   "source": [
    "# One of the best ways to describe a variable is to report the values that appear in the dataset\n",
    "# and how many times each value appears.\n",
    "\n",
    "def freq(data):\n",
    "    dic ={}\n",
    "    for obs in data:\n",
    "        dic[obs]=dic.get(obs,0)+1\n",
    "    \n",
    "    return dic"
   ]
  },
  {
   "cell_type": "code",
   "execution_count": 12,
   "metadata": {},
   "outputs": [
    {
     "data": {
      "text/plain": [
       "Counter({'big': 7, 'none': 6, 'small': 37})"
      ]
     },
     "execution_count": 12,
     "metadata": {},
     "output_type": "execute_result"
    }
   ],
   "source": [
    "# Alternatively, you could use the Counter class defined in the collections module\n",
    "from collections import Counter\n",
    "\n",
    "Counter(email['number'])"
   ]
  },
  {
   "cell_type": "code",
   "execution_count": 13,
   "metadata": {},
   "outputs": [
    {
     "data": {
      "text/plain": [
       "{'big': 7, 'none': 6, 'small': 37}"
      ]
     },
     "execution_count": 13,
     "metadata": {},
     "output_type": "execute_result"
    }
   ],
   "source": [
    "freq(email['number'])"
   ]
  },
  {
   "cell_type": "markdown",
   "metadata": {},
   "source": [
    "<h2>Histogram</h2>\n",
    "Histogram is a way to visualize a how the data falles in to different bins (segments), and provides a view of the data density.\n",
    "In general, histograms are plotted such that;\n",
    "* Empty bins are included in the graph\n",
    "* Bins are equal width\n",
    "* Bins are contiguous  \n",
    "* The number of bins are taken as the square root of the number of data points in the sample (i.e for 50 data points 7 bins)"
   ]
  },
  {
   "cell_type": "code",
   "execution_count": 38,
   "metadata": {},
   "outputs": [
    {
     "data": {
      "image/png": "[encoded data removed]",
      "text/plain": [
       "<matplotlib.figure.Figure at 0xda6a4a8>"
      ]
     },
     "metadata": {},
     "output_type": "display_data"
    }
   ],
   "source": [
    "plt.hist(email['num_char'],bins=7)\n",
    "plt.xlabel('No. of characters in the email')\n",
    "plt.ylabel('No. of emails');"
   ]
  },
  {
   "cell_type": "markdown",
   "metadata": {},
   "source": [
    "When data trails off in one direction, the destribution has a long tail. If a distribution has a long left tail, it is left skewed. If a distribuition has a long right tail, it is right skewed."
   ]
  },
  {
   "cell_type": "code",
   "execution_count": 59,
   "metadata": {},
   "outputs": [
    {
     "data": {
      "image/png": "[encoded data removed]",
      "text/plain": [
       "<matplotlib.figure.Figure at 0xf714e48>"
      ]
     },
     "metadata": {},
     "output_type": "display_data"
    }
   ],
   "source": []
  },
  {
   "cell_type": "code",
   "execution_count": 51,
   "metadata": {},
   "outputs": [
    {
     "data": {
      "text/plain": [
       "ModeResult(mode=array([ 0.057]), count=array([1]))"
      ]
     },
     "execution_count": 51,
     "metadata": {},
     "output_type": "execute_result"
    }
   ],
   "source": [
    "stats.mode(email['num_char'])"
   ]
  },
  {
   "cell_type": "markdown",
   "metadata": {},
   "source": [
    "<H2>Median</H2>\n",
    "The median is the middle number on a sorted list of data. If there is an even number of data values, the median is taken as the average of the two middle values.\n",
    "\n",
    "$$\\begin{cases}\n",
    "  \\frac{x_{\\frac{n}{2}} +x_{\\frac{n}{2}+1}}{2} \\text{ if n is even}  \\\\\n",
    "  \\\\\n",
    " x_{\\frac{n+1}{2}}  \\text{ if n is odd}   \n",
    "\\end{cases}$$\n",
    "\n",
    "Unlike the mean, the median doesn't depend on every value in the data set, but depend only on the values in the center of the sorted data. Therefore, the median is less sensitive to the data."
   ]
  },
  {
   "cell_type": "code",
   "execution_count": null,
   "metadata": {
    "collapsed": true
   },
   "outputs": [],
   "source": [
    "print 'median number of characters per email\\t:',email['num_char'].median()"
   ]
  },
  {
   "cell_type": "markdown",
   "metadata": {},
   "source": [
    "<h2>Percentile</h2>\n",
    "While the median, provides the midpoint of a sorted dataset, **_p th percentile_** is a value such that at least *p* percent of values in the data set take this value or less and at least (100-p) percent of values take on this value or more."
   ]
  },
  {
   "cell_type": "code",
   "execution_count": 10,
   "metadata": {
    "collapsed": true
   },
   "outputs": [
    {
     "name": "stdout",
     "output_type": "stream",
     "text": [
      "20th percentile of the email data set\t: 1.4282000000000004\n",
      "\ti.e 20% of emails has 1.4282000000000004 characters or less\n",
      "\n",
      "30th percentile of the email data set\t: 2.9856999999999996\n",
      "\ti.e 30% of emails has 2.9856999999999996 characters or less\n",
      "\n",
      "50th percentile of the email data set\t: 6.8895\n",
      "\ti.e 50% of emails has 6.8895 characters or less\n",
      "\n",
      "80th percentile of the email data set\t: 22.283800000000006\n",
      "\ti.e 80% of emails has 22.283800000000006 characters or less\n",
      "\n"
     ]
    }
   ],
   "source": [
    "print ('20th percentile of the email data set\\t:', np.percentile(email['num_char'],20))\n",
    "print ('\\ti.e 20% of emails has {} characters or less\\n'.format(np.percentile(email['num_char'],20)))\n",
    "print ('30th percentile of the email data set\\t:', np.percentile(email['num_char'],30))\n",
    "print ('\\ti.e 30% of emails has {} characters or less\\n'.format(np.percentile(email['num_char'],30)))\n",
    "print ('50th percentile of the email data set\\t:', np.percentile(email['num_char'],50))\n",
    "print ('\\ti.e 50% of emails has {} characters or less\\n'.format(np.percentile(email['num_char'],50)))\n",
    "print ('80th percentile of the email data set\\t:', np.percentile(email['num_char'],80))\n",
    "print ('\\ti.e 80% of emails has {} characters or less\\n'.format(np.percentile(email['num_char'],80)))"
   ]
  },
  {
   "cell_type": "code",
   "execution_count": 60,
   "metadata": {
    "collapsed": true
   },
   "outputs": [],
   "source": [
    "def cdf(s):\n",
    "    # Number of data points\n",
    "    n=len(s)\n",
    "    \n",
    "    return s.sort_values(),np.arange(1,n+1)/n"
   ]
  },
  {
   "cell_type": "code",
   "execution_count": 69,
   "metadata": {},
   "outputs": [
    {
     "data": {
      "text/plain": [
       "[<matplotlib.lines.Line2D at 0xdb78dd8>]"
      ]
     },
     "execution_count": 69,
     "metadata": {},
     "output_type": "execute_result"
    },
    {
     "data": {
      "image/png": "[encoded data removed]",
      "text/plain": [
       "<matplotlib.figure.Figure at 0xf1bea58>"
      ]
     },
     "metadata": {},
     "output_type": "display_data"
    }
   ],
   "source": [
    "x,y=cdf(email['num_char'])\n",
    "plt.plot(x, y, marker = '.', linestyle = 'none')\n",
    "\n",
    "# Label the axes\n",
    "plt.xlabel('No of characters')\n",
    "plt.ylabel('cumulative distribution');\n",
    "\n",
    "# Overlaying percentiles \n",
    "percentiles=np.array((2.5,25,50,75,97.5))   # \n",
    "ptiles=np.percentile(email['num_char'],percentiles)  #\n",
    "plt.plot(ptiles,(percentiles/100),marker='o',linestyle='none', color='red')\n"
   ]
  },
  {
   "cell_type": "markdown",
   "metadata": {},
   "source": [
    "<h2>Estimate of Variability</h2>\n",
    "*_Variability or Dispersion_* refers how spead out out data is. \n",
    "\n",
    "**_Range_** The difference between the largest and smallest values in a data set. </br>"
   ]
  },
  {
   "cell_type": "code",
   "execution_count": null,
   "metadata": {
    "collapsed": true
   },
   "outputs": [],
   "source": [
    "print 'Maximum number of characters in an email\\t:',email['num_char'].max()\n",
    "print 'Minimum number of characters in an email\\t:',email['num_char'].min()\n",
    "\n",
    "print 'Range of the data set\\t:', email['num_char'].max() - email['num_char'].min()"
   ]
  },
  {
   "cell_type": "markdown",
   "metadata": {},
   "source": [
    "**_Interquatile range_** is calculated as the difference between 75th percentile vaule and the 25th value"
   ]
  },
  {
   "cell_type": "code",
   "execution_count": null,
   "metadata": {
    "collapsed": true
   },
   "outputs": [],
   "source": [
    "print '25th percentile\\t:',np.percentile(email['num_char'],25)\n",
    "print '75th percentile\\t:',np.percentile(email['num_char'],75)\n",
    "\n",
    "print 'Interquatile range\\t:',np.percentile(email['num_char'],75)-np.percentile(email['num_char'],25)"
   ]
  },
  {
   "cell_type": "markdown",
   "metadata": {},
   "source": [
    "<h2>Box plot</h2>\n",
    "_Box plots_ summarizes a data set using five statistics while also plotting unusual observations.The line within the shaded box represent the median, which splits the data in half. The left most border (lower) showns the 25th percentile and the right border (upper) border represents the 75th percentile, So that the shaded box contrain 50% of the data.\n",
    "\n",
    "Extending out from the box, the _whiskers_ extend 1.5 times the IQR an attempts to capture the data outside the box. Any data points beyond the whiskers is labled with a diamond.\n",
    "\n",
    "**Importance of examining outliers**\n",
    "1. Identifying strong skew in the distribution\n",
    "2. identify data collection or entry errors\n",
    "3. Provide insight into interesting propertier of the data"
   ]
  },
  {
   "cell_type": "code",
   "execution_count": 74,
   "metadata": {},
   "outputs": [
    {
     "data": {
      "text/plain": [
       "<matplotlib.axes._subplots.AxesSubplot at 0xf336518>"
      ]
     },
     "execution_count": 74,
     "metadata": {},
     "output_type": "execute_result"
    },
    {
     "data": {
      "image/png": "[encoded data removed]",
      "text/plain": [
       "<matplotlib.figure.Figure at 0xcd19b38>"
      ]
     },
     "metadata": {},
     "output_type": "display_data"
    }
   ],
   "source": [
    "plt.figure(figsize=(10,2))\n",
    "sns.boxplot(email['num_char'])"
   ]
  },
  {
   "cell_type": "markdown",
   "metadata": {},
   "source": [
    "**_Deviation_**, The difference between the observed values and the estimate of location. If we take the deviation of each value from the mean and sum them up the sum would be precisely zero, since the negative deviations will offset the positive deviations.\n",
    "\n",
    "**_Mean absolute deviation_** the mean of absolute value of the deviations from the mean\n",
    "$$\\large\\frac{\\sum_{x_i =1}^n|x_i - \\bar x|}{n}$$\n",
    "\n",
    "**_Variance_**\n",
    "Variance is taken by averaging the squared deviations\n",
    "$$s^2=\\frac{\\sum (x-\\bar x)^2}{n-1}$$\n",
    "\n",
    "By taking the squares of the deviation, we make the large deviations larger, emphasising the deviations. Additionally, it makes all the value positive.  \n",
    "\n",
    "**_Standard Deviation_**\n",
    "Square root of variance\n",
    "$$s=\\sqrt{s^2}=\\sqrt{\\frac{\\sum (x-\\bar x)^2}{n-1}}$$"
   ]
  },
  {
   "cell_type": "code",
   "execution_count": 97,
   "metadata": {
    "collapsed": true
   },
   "outputs": [],
   "source": [
    "def deviation(s):\n",
    "    n=len(s)\n",
    "    x_bar=s.mean()\n",
    "    deviations=[]\n",
    "    for i in s:\n",
    "        deviations.append((i-x_bar))\n",
    "    \n",
    "    return np.array(deviations)"
   ]
  },
  {
   "cell_type": "code",
   "execution_count": 108,
   "metadata": {},
   "outputs": [
    {
     "data": {
      "text/plain": [
       "0.000"
      ]
     },
     "execution_count": 108,
     "metadata": {},
     "output_type": "execute_result"
    }
   ],
   "source": [
    "deviations = deviation(email['num_char'])\n",
    "deviations.sum()"
   ]
  },
  {
   "cell_type": "code",
   "execution_count": 104,
   "metadata": {},
   "outputs": [
    {
     "data": {
      "text/plain": [
       "<matplotlib.collections.LineCollection at 0x1275b358>"
      ]
     },
     "execution_count": 104,
     "metadata": {},
     "output_type": "execute_result"
    },
    {
     "data": {
      "image/png": "[encoded data removed]",
      "text/plain": [
       "<matplotlib.figure.Figure at 0x1275b390>"
      ]
     },
     "metadata": {},
     "output_type": "display_data"
    }
   ],
   "source": [
    "plt.plot(email['num_char'],linestyle='none',marker='o')\n",
    "\n",
    "x_bar=email['num_char'].mean()\n",
    "# Plot line indicating the mean across the range\n",
    "plt.axhline(x_bar,color='red')\n",
    "# Add horizontal lines showing deviations from the mean\n",
    "plt.vlines(x=range(50), ymin=x_bar, ymax=(deviations+x_bar),colors='gray')"
   ]
  },
  {
   "cell_type": "code",
   "execution_count": 110,
   "metadata": {},
   "outputs": [
    {
     "data": {
      "text/plain": [
       "9.585"
      ]
     },
     "execution_count": 110,
     "metadata": {},
     "output_type": "execute_result"
    }
   ],
   "source": [
    "# Computing mean absolute deviation\n",
    "np.abs(deviations).mean()"
   ]
  },
  {
   "cell_type": "code",
   "execution_count": 112,
   "metadata": {},
   "outputs": [
    {
     "data": {
      "text/plain": [
       "168.827"
      ]
     },
     "execution_count": 112,
     "metadata": {},
     "output_type": "execute_result"
    }
   ],
   "source": [
    "# Computing the squared deviations\n",
    "sqr_deviations=np.power(deviations,2)\n",
    "\n",
    "# Calculate mean square difference\n",
    "mean_sqr_deviations=sqr_deviations.mean()\n",
    "mean_sqr_deviations"
   ]
  },
  {
   "cell_type": "code",
   "execution_count": 113,
   "metadata": {},
   "outputs": [
    {
     "name": "stdout",
     "output_type": "stream",
     "text": [
      "Variance of the number of characters in email data:\t 168.827027652\n",
      "Standard deviation of the number of characters in email data:\t 12.9933455142\n"
     ]
    }
   ],
   "source": [
    "print ('Variance of the number of characters in email data:\\t',np.var(email['num_char']))\n",
    "print ('Standard deviation of the number of characters in email data:\\t',np.std(email['num_char']))"
   ]
  },
  {
   "cell_type": "markdown",
   "metadata": {},
   "source": [
    "<h2>Exploring Binary and Categorical Data</h2>\n",
    "**_Bar Charts_**\n",
    "Bar chart \n",
    "\n",
    "\n",
    "**_Segmented(Stacked) bar chart_**"
   ]
  },
  {
   "cell_type": "markdown",
   "metadata": {},
   "source": [
    "<h2>Exploring Two or More Variables</h2>\n",
    "**Scatter Plot** is a standard way of visualizing the relationship between two variables."
   ]
  },
  {
   "cell_type": "code",
   "execution_count": 47,
   "metadata": {},
   "outputs": [
    {
     "data": {
      "text/plain": [
       "<matplotlib.collections.PathCollection at 0xdf5bef0>"
      ]
     },
     "execution_count": 47,
     "metadata": {},
     "output_type": "execute_result"
    },
    {
     "data": {
      "image/png": "[encoded data removed]",
      "text/plain": [
       "<matplotlib.figure.Figure at 0xe2ccba8>"
      ]
     },
     "metadata": {},
     "output_type": "display_data"
    }
   ],
   "source": [
    "plt.scatter(x=email['num_char'],y=email['line_breaks'],\n",
    "            alpha=0.5, linewidths=1,edgecolors='b')"
   ]
  },
  {
   "cell_type": "markdown",
   "metadata": {},
   "source": [
    "**Covariance** The covariance of two variables x and y in a data set measures how the two are linearly related. A positive covariance would indicate a positive linear relationship between the variables, and a negative covariance would indicate the opposite.\n",
    "\n",
    "$$cov(x,y)=\\frac{\\sum(x_i-\\bar x)(y_i-\\bar y)}{N-1}$$\n",
    "\n",
    "\n",
    "**Correlation**\n",
    "The correlation coefficient of two variables in a data set equals to their covariance divided by the product of their individual standard deviations. It is a normalized measurement of how the two are linearly related.\n",
    "\n",
    "$$r=\\frac{cov(x,y)}{s_xs_y}=\\frac{\\sum(x_i-\\bar x)(y_i-\\bar y)}{(N-1)s_xs_y}$$\n",
    "Where $s_x$ is the standard deviation of the first variable and $s_y$ is the standard deviation of the second variable. By standardizing the covariance, the values for the correlation coefficient is calculated to lie between -1 and +1.  \n",
    "A coefficient of +1 indicates that the two variables are perfectly positively correlated. Conversely, a coefficient of -1 indicates a perfect negative relationship."
   ]
  },
  {
   "cell_type": "code",
   "execution_count": 123,
   "metadata": {},
   "outputs": [
    {
     "data": {
      "text/plain": [
       "array([[ 84576.173,   3650.66 ],\n",
       "       [  3650.66 ,    172.272]])"
      ]
     },
     "execution_count": 123,
     "metadata": {},
     "output_type": "execute_result"
    }
   ],
   "source": [
    "covariance_matrix=np.cov(email['line_breaks'],email['num_char'])\n",
    "covariance_matrix"
   ]
  },
  {
   "cell_type": "code",
   "execution_count": 131,
   "metadata": {},
   "outputs": [
    {
     "data": {
      "text/plain": [
       "3650.660"
      ]
     },
     "execution_count": 131,
     "metadata": {},
     "output_type": "execute_result"
    }
   ],
   "source": [
    "# The np.cov function gives an n x n array\n",
    "covariance_matrix[0][1]"
   ]
  },
  {
   "cell_type": "code",
   "execution_count": 130,
   "metadata": {},
   "outputs": [
    {
     "data": {
      "text/plain": [
       "array([[ 1.   ,  0.956],\n",
       "       [ 0.956,  1.   ]])"
      ]
     },
     "execution_count": 130,
     "metadata": {},
     "output_type": "execute_result"
    }
   ],
   "source": [
    "# The correlation coefficient always lies between +1 (perfect positive correlation)\n",
    "# and -1 (perfect negative corelation)\n",
    "np.corrcoef(email['line_breaks'],email['num_char'])"
   ]
  },
  {
   "cell_type": "code",
   "execution_count": null,
   "metadata": {
    "collapsed": true
   },
   "outputs": [],
   "source": []
  }
 ],
 "metadata": {
  "kernelspec": {
   "display_name": "Python 3",
   "language": "python",
   "name": "python3"
  },
  "language_info": {
   "codemirror_mode": {
    "name": "ipython",
    "version": 3
   },
   "file_extension": ".py",
   "mimetype": "text/x-python",
   "name": "python",
   "nbconvert_exporter": "python",
   "pygments_lexer": "ipython3",
   "version": "3.6.4"
  }
 },
 "nbformat": 4,
 "nbformat_minor": 2
}
