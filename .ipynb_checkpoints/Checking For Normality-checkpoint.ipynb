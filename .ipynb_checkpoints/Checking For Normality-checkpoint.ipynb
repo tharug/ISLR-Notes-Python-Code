{
 "cells": [
  {
   "cell_type": "code",
   "execution_count": 13,
   "metadata": {},
   "outputs": [],
   "source": [
    "# Import packages for statistical analysis\n",
    "import numpy as np\n",
    "import scipy.stats as stats\n",
    "import pandas as pd\n",
    "\n",
    "# Import package for visualisation\n",
    "import matplotlib.pyplot as plt\n",
    "import seaborn as sns\n",
    "%matplotlib inline"
   ]
  },
  {
   "cell_type": "code",
   "execution_count": 2,
   "metadata": {},
   "outputs": [
    {
     "data": {
      "text/html": [
       "<div>\n",
       "<style scoped>\n",
       "    .dataframe tbody tr th:only-of-type {\n",
       "        vertical-align: middle;\n",
       "    }\n",
       "\n",
       "    .dataframe tbody tr th {\n",
       "        vertical-align: top;\n",
       "    }\n",
       "\n",
       "    .dataframe thead th {\n",
       "        text-align: right;\n",
       "    }\n",
       "</style>\n",
       "<table border=\"1\" class=\"dataframe\">\n",
       "  <thead>\n",
       "    <tr style=\"text-align: right;\">\n",
       "      <th></th>\n",
       "      <th>age</th>\n",
       "      <th>gender</th>\n",
       "      <th>grade</th>\n",
       "      <th>hispanic</th>\n",
       "      <th>race</th>\n",
       "      <th>height</th>\n",
       "      <th>weight</th>\n",
       "      <th>helmet_12m</th>\n",
       "      <th>text_while_driving_30d</th>\n",
       "      <th>physically_active_7d</th>\n",
       "      <th>hours_tv_per_school_day</th>\n",
       "      <th>strength_training_7d</th>\n",
       "      <th>school_night_hours_sleep</th>\n",
       "    </tr>\n",
       "  </thead>\n",
       "  <tbody>\n",
       "    <tr>\n",
       "      <th>0</th>\n",
       "      <td>14.0</td>\n",
       "      <td>female</td>\n",
       "      <td>9</td>\n",
       "      <td>not</td>\n",
       "      <td>Black or African American</td>\n",
       "      <td>NaN</td>\n",
       "      <td>NaN</td>\n",
       "      <td>never</td>\n",
       "      <td>0</td>\n",
       "      <td>4.0</td>\n",
       "      <td>5+</td>\n",
       "      <td>0.0</td>\n",
       "      <td>8</td>\n",
       "    </tr>\n",
       "    <tr>\n",
       "      <th>1</th>\n",
       "      <td>14.0</td>\n",
       "      <td>female</td>\n",
       "      <td>9</td>\n",
       "      <td>not</td>\n",
       "      <td>Black or African American</td>\n",
       "      <td>NaN</td>\n",
       "      <td>NaN</td>\n",
       "      <td>never</td>\n",
       "      <td>NaN</td>\n",
       "      <td>2.0</td>\n",
       "      <td>5+</td>\n",
       "      <td>0.0</td>\n",
       "      <td>6</td>\n",
       "    </tr>\n",
       "    <tr>\n",
       "      <th>2</th>\n",
       "      <td>15.0</td>\n",
       "      <td>female</td>\n",
       "      <td>9</td>\n",
       "      <td>hispanic</td>\n",
       "      <td>Native Hawaiian or Other Pacific Islander</td>\n",
       "      <td>1.73</td>\n",
       "      <td>84.37</td>\n",
       "      <td>never</td>\n",
       "      <td>30</td>\n",
       "      <td>7.0</td>\n",
       "      <td>5+</td>\n",
       "      <td>0.0</td>\n",
       "      <td>&lt;5</td>\n",
       "    </tr>\n",
       "    <tr>\n",
       "      <th>3</th>\n",
       "      <td>15.0</td>\n",
       "      <td>female</td>\n",
       "      <td>9</td>\n",
       "      <td>not</td>\n",
       "      <td>Black or African American</td>\n",
       "      <td>1.60</td>\n",
       "      <td>55.79</td>\n",
       "      <td>never</td>\n",
       "      <td>0</td>\n",
       "      <td>0.0</td>\n",
       "      <td>2</td>\n",
       "      <td>0.0</td>\n",
       "      <td>6</td>\n",
       "    </tr>\n",
       "    <tr>\n",
       "      <th>4</th>\n",
       "      <td>15.0</td>\n",
       "      <td>female</td>\n",
       "      <td>9</td>\n",
       "      <td>not</td>\n",
       "      <td>Black or African American</td>\n",
       "      <td>1.50</td>\n",
       "      <td>46.72</td>\n",
       "      <td>did not ride</td>\n",
       "      <td>did not drive</td>\n",
       "      <td>2.0</td>\n",
       "      <td>3</td>\n",
       "      <td>1.0</td>\n",
       "      <td>9</td>\n",
       "    </tr>\n",
       "  </tbody>\n",
       "</table>\n",
       "</div>"
      ],
      "text/plain": [
       "    age  gender grade  hispanic                                       race  \\\n",
       "0  14.0  female     9       not                  Black or African American   \n",
       "1  14.0  female     9       not                  Black or African American   \n",
       "2  15.0  female     9  hispanic  Native Hawaiian or Other Pacific Islander   \n",
       "3  15.0  female     9       not                  Black or African American   \n",
       "4  15.0  female     9       not                  Black or African American   \n",
       "\n",
       "   height  weight    helmet_12m text_while_driving_30d  physically_active_7d  \\\n",
       "0     NaN     NaN         never                      0                   4.0   \n",
       "1     NaN     NaN         never                    NaN                   2.0   \n",
       "2    1.73   84.37         never                     30                   7.0   \n",
       "3    1.60   55.79         never                      0                   0.0   \n",
       "4    1.50   46.72  did not ride          did not drive                   2.0   \n",
       "\n",
       "  hours_tv_per_school_day  strength_training_7d school_night_hours_sleep  \n",
       "0                      5+                   0.0                        8  \n",
       "1                      5+                   0.0                        6  \n",
       "2                      5+                   0.0                       <5  \n",
       "3                       2                   0.0                        6  \n",
       "4                       3                   1.0                        9  "
      ]
     },
     "execution_count": 2,
     "metadata": {},
     "output_type": "execute_result"
    }
   ],
   "source": [
    "yrbss = pd.read_csv('./Data/yrbss.csv')\n",
    "yrbss.head()"
   ]
  },
  {
   "cell_type": "code",
   "execution_count": 3,
   "metadata": {},
   "outputs": [],
   "source": [
    "heights=yrbss['height'].dropna().values"
   ]
  },
  {
   "cell_type": "markdown",
   "metadata": {},
   "source": [
    "### Checking for Normality in Sample\n",
    "In many statistical tests we assume that the sampling distribution is normally distributed. However, since we do not have access to this distribution, we cannot look at the shape and see whether it is normally distributed. However, we know that if the sample data is approximately normal then the sampling distribution will be so as well.\n",
    "\n",
    "#### Visual Methods for checking normaity\n",
    "Normal Probalility plots (quantile - quantile plot) can be used to assess the normality of a distribution. Q-Q plot plots the expected quantile of the data if the data is normally distributed against the actual scores. If the values fall on a diagonal line then the variable is normally distributed, but deviations from the diagonal show deviations from normality."
   ]
  },
  {
   "cell_type": "code",
   "execution_count": 4,
   "metadata": {},
   "outputs": [
    {
     "data": {
      "text/plain": [
       "[<matplotlib.lines.Line2D at 0x8be6dd0>]"
      ]
     },
     "execution_count": 4,
     "metadata": {},
     "output_type": "execute_result"
    },
    {
     "data": {
      "image/png": "[encoded data removed]",
      "text/plain": [
       "<matplotlib.figure.Figure at 0x52f89f0>"
      ]
     },
     "metadata": {},
     "output_type": "display_data"
    }
   ],
   "source": [
    "sample= np.random.choice(heights,100)\n",
    "\n",
    "osm, osr = stats.probplot(sample)[0]\n",
    "slope, intercept, r = stats.probplot(sample)[1]\n",
    "plt.plot(osm, osr,marker='.',linestyle='None')\n",
    "plt.plot(osm , slope*osm +intercept)"
   ]
  },
  {
   "cell_type": "code",
   "execution_count": 5,
   "metadata": {
    "scrolled": true
   },
   "outputs": [
    {
     "data": {
      "image/png": "[encoded data removed]",
      "text/plain": [
       "<matplotlib.figure.Figure at 0x8b9fc90>"
      ]
     },
     "metadata": {},
     "output_type": "display_data"
    }
   ],
   "source": [
    "plt.hist(sample,bins=np.arange(1.450,1.950,.05));"
   ]
  },
  {
   "cell_type": "markdown",
   "metadata": {},
   "source": [
    "pvalue less than 0.05 indicates a deviation from normality."
   ]
  },
  {
   "cell_type": "markdown",
   "metadata": {},
   "source": [
    "The skew and the kurtosis of a distribution can be calculated using the functions skew() and kurtosis() functions. The values should be zero in a normal distribution. Positive values of skew indicates a pile-up of scores on the left of the distribution, whereas negative values indicate a pile-up on the right. Further the value is from zero, the more likely it is that data is not normally distributed."
   ]
  },
  {
   "cell_type": "code",
   "execution_count": 7,
   "metadata": {},
   "outputs": [
    {
     "name": "stdout",
     "output_type": "stream",
     "text": [
      "Skew of the distribution 0.4569385015821536\n",
      "kurtosis of the distribution -0.08686196766668619\n"
     ]
    }
   ],
   "source": [
    "print ('Skew of the distribution', stats.skew(sample))\n",
    "print ('kurtosis of the distribution', stats.kurtosis(sample))"
   ]
  },
  {
   "cell_type": "markdown",
   "metadata": {},
   "source": [
    "\n",
    "skewtest() and kurtosistest() functions can be used to see if the the skew and the kurtosis is different from a normal distribution."
   ]
  },
  {
   "cell_type": "code",
   "execution_count": 8,
   "metadata": {},
   "outputs": [
    {
     "data": {
      "text/plain": [
       "SkewtestResult(statistic=1.9098977183658985, pvalue=0.056146383911384455)"
      ]
     },
     "execution_count": 8,
     "metadata": {},
     "output_type": "execute_result"
    }
   ],
   "source": [
    "stats.skewtest(sample)"
   ]
  },
  {
   "cell_type": "code",
   "execution_count": 9,
   "metadata": {},
   "outputs": [
    {
     "data": {
      "text/plain": [
       "KurtosistestResult(statistic=0.12233767172762723, pvalue=0.9026315983304037)"
      ]
     },
     "execution_count": 9,
     "metadata": {},
     "output_type": "execute_result"
    }
   ],
   "source": [
    "stats.kurtosistest(sample)"
   ]
  },
  {
   "cell_type": "markdown",
   "metadata": {},
   "source": [
    "Large samples will give rise to small standard errors and so when sample size are big, significant values will arise even from small deviations from normality. In larger samples it's OK to look for smaller p values. If the sample size is more than 200 or more it is more important to look at the shape of the distribution visually and to look at the values of the skew and kurtosis rather than calculate their significance."
   ]
  },
  {
   "cell_type": "markdown",
   "metadata": {},
   "source": [
    "#### Shapiro-Wilk test\n",
    "Shapiro-Wilk test the null hypothesis that the sample data is drawn from a normal distribution with the same mean and deviation. If the test is non-significant (p > 0.05) then the distribution of the sample can be assumed not to be significantly different  from a normal distribution. If the test is significant (p < 0.05) then the distribution is significantly different from a normal distribution."
   ]
  },
  {
   "cell_type": "code",
   "execution_count": 17,
   "metadata": {},
   "outputs": [
    {
     "data": {
      "text/plain": [
       "(0.9739632606506348, 0.04477466642856598)"
      ]
     },
     "execution_count": 17,
     "metadata": {},
     "output_type": "execute_result"
    }
   ],
   "source": [
    "stats.shapiro(sample)"
   ]
  },
  {
   "cell_type": "markdown",
   "metadata": {},
   "source": [
    "With large sample sizes it is very easy to get significant results from small deviations from normality."
   ]
  },
  {
   "cell_type": "code",
   "execution_count": 18,
   "metadata": {},
   "outputs": [
    {
     "data": {
      "text/plain": [
       "AndersonResult(statistic=0.75061406722498702, critical_values=array([ 0.555,  0.632,  0.759,  0.885,  1.053]), significance_level=array([ 15. ,  10. ,   5. ,   2.5,   1. ]))"
      ]
     },
     "execution_count": 18,
     "metadata": {},
     "output_type": "execute_result"
    }
   ],
   "source": [
    "stats.anderson(sample)"
   ]
  },
  {
   "cell_type": "markdown",
   "metadata": {},
   "source": [
    "#### Levene's Test\n"
   ]
  },
  {
   "cell_type": "code",
   "execution_count": 12,
   "metadata": {},
   "outputs": [
    {
     "data": {
      "text/plain": [
       "LeveneResult(statistic=69.24939031602986, pvalue=9.567304327680075e-17)"
      ]
     },
     "execution_count": 12,
     "metadata": {},
     "output_type": "execute_result"
    }
   ],
   "source": [
    "female_heights= yrbss['height'][yrbss['gender']=='female'].dropna()\n",
    "male_heights= yrbss['height'][yrbss['gender']=='male'].dropna()\n",
    "stats.levene(female_heights,male_heights,)"
   ]
  },
  {
   "cell_type": "code",
   "execution_count": 14,
   "metadata": {},
   "outputs": [
    {
     "data": {
      "text/plain": [
       "<matplotlib.axes._subplots.AxesSubplot at 0xd349a30>"
      ]
     },
     "execution_count": 14,
     "metadata": {},
     "output_type": "execute_result"
    },
    {
     "data": {
      "image/png": "[encoded data removed]",
      "text/plain": [
       "<matplotlib.figure.Figure at 0xcf78fb0>"
      ]
     },
     "metadata": {},
     "output_type": "display_data"
    }
   ],
   "source": [
    "sns.boxplot(x= 'gender',y= 'height', data=yrbss)"
   ]
  },
  {
   "cell_type": "code",
   "execution_count": 16,
   "metadata": {},
   "outputs": [
    {
     "data": {
      "text/plain": [
       "(0.074665630003706, 0.08523435481945044)"
      ]
     },
     "execution_count": 16,
     "metadata": {},
     "output_type": "execute_result"
    }
   ],
   "source": [
    "female_heights.std(),male_heights.std()"
   ]
  },
  {
   "cell_type": "code",
   "execution_count": 17,
   "metadata": {},
   "outputs": [
    {
     "data": {
      "text/plain": [
       "MannwhitneyuResult(statistic=4548762.0, pvalue=0.0)"
      ]
     },
     "execution_count": 17,
     "metadata": {},
     "output_type": "execute_result"
    }
   ],
   "source": [
    "stats.mannwhitneyu(female_heights, male_heights)"
   ]
  },
  {
   "cell_type": "code",
   "execution_count": 18,
   "metadata": {},
   "outputs": [
    {
     "ename": "ValueError",
     "evalue": "Unequal N in wilcoxon.  Aborting.",
     "output_type": "error",
     "traceback": [
      "\u001b[1;31m---------------------------------------------------------------------------\u001b[0m",
      "\u001b[1;31mValueError\u001b[0m                                Traceback (most recent call last)",
      "\u001b[1;32m<ipython-input-18-194d27f5b0d5>\u001b[0m in \u001b[0;36m<module>\u001b[1;34m()\u001b[0m\n\u001b[1;32m----> 1\u001b[1;33m \u001b[0mstats\u001b[0m\u001b[1;33m.\u001b[0m\u001b[0mwilcoxon\u001b[0m\u001b[1;33m(\u001b[0m\u001b[0mfemale_heights\u001b[0m\u001b[1;33m,\u001b[0m \u001b[0mmale_heights\u001b[0m\u001b[1;33m)\u001b[0m\u001b[1;33m\u001b[0m\u001b[0m\n\u001b[0m",
      "\u001b[1;32m~\\AppData\\Local\\Continuum\\anaconda3\\lib\\site-packages\\scipy\\stats\\morestats.py\u001b[0m in \u001b[0;36mwilcoxon\u001b[1;34m(x, y, zero_method, correction)\u001b[0m\n\u001b[0;32m   2374\u001b[0m         \u001b[0mx\u001b[0m\u001b[1;33m,\u001b[0m \u001b[0my\u001b[0m \u001b[1;33m=\u001b[0m \u001b[0mmap\u001b[0m\u001b[1;33m(\u001b[0m\u001b[0masarray\u001b[0m\u001b[1;33m,\u001b[0m \u001b[1;33m(\u001b[0m\u001b[0mx\u001b[0m\u001b[1;33m,\u001b[0m \u001b[0my\u001b[0m\u001b[1;33m)\u001b[0m\u001b[1;33m)\u001b[0m\u001b[1;33m\u001b[0m\u001b[0m\n\u001b[0;32m   2375\u001b[0m         \u001b[1;32mif\u001b[0m \u001b[0mlen\u001b[0m\u001b[1;33m(\u001b[0m\u001b[0mx\u001b[0m\u001b[1;33m)\u001b[0m \u001b[1;33m!=\u001b[0m \u001b[0mlen\u001b[0m\u001b[1;33m(\u001b[0m\u001b[0my\u001b[0m\u001b[1;33m)\u001b[0m\u001b[1;33m:\u001b[0m\u001b[1;33m\u001b[0m\u001b[0m\n\u001b[1;32m-> 2376\u001b[1;33m             \u001b[1;32mraise\u001b[0m \u001b[0mValueError\u001b[0m\u001b[1;33m(\u001b[0m\u001b[1;34m'Unequal N in wilcoxon.  Aborting.'\u001b[0m\u001b[1;33m)\u001b[0m\u001b[1;33m\u001b[0m\u001b[0m\n\u001b[0m\u001b[0;32m   2377\u001b[0m         \u001b[0md\u001b[0m \u001b[1;33m=\u001b[0m \u001b[0mx\u001b[0m \u001b[1;33m-\u001b[0m \u001b[0my\u001b[0m\u001b[1;33m\u001b[0m\u001b[0m\n\u001b[0;32m   2378\u001b[0m \u001b[1;33m\u001b[0m\u001b[0m\n",
      "\u001b[1;31mValueError\u001b[0m: Unequal N in wilcoxon.  Aborting."
     ]
    }
   ],
   "source": [
    "stats.wilcoxon(female_heights, male_heights)"
   ]
  },
  {
   "cell_type": "code",
   "execution_count": null,
   "metadata": {},
   "outputs": [],
   "source": []
  }
 ],
 "metadata": {
  "kernelspec": {
   "display_name": "Python 3",
   "language": "python",
   "name": "python3"
  },
  "language_info": {
   "codemirror_mode": {
    "name": "ipython",
    "version": 3
   },
   "file_extension": ".py",
   "mimetype": "text/x-python",
   "name": "python",
   "nbconvert_exporter": "python",
   "pygments_lexer": "ipython3",
   "version": "3.6.4"
  }
 },
 "nbformat": 4,
 "nbformat_minor": 2
}
