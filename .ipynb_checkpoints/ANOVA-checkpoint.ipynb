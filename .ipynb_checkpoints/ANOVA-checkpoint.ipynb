{
 "cells": [
  {
   "cell_type": "markdown",
   "metadata": {},
   "source": [
    "Analysis of Variance (ANOVA) is a statistical technique used to check if the means of two or more groups are significantly different from each other. The advantage of ANOVA is that it can be used to compare two or more samples (populations), while $t$ test is limited to comparing only two sample (populations).\n",
    "\n",
    "For a numarical variable $Y$ the variation about it's mean can either be explained by one or more independent variables (factors) or is unexplained. The \n",
    "\n",
    "$$\\text{Variation in Y(around the mean) = Explained Variation (due to factors) + Unexplained Variation (random error)}$$\n",
    "\n",
    "The goal of ANOVA is to determine whether the mean differences observed amoung the samples provide enough evidence to conclude that there are mean diffences amoung the populations. Specifically, we must decide between;\n",
    "1. There are no differences between the populations. The observed differences are caused by random, unsystematic factors (Sampling error) that differentiate one sample from another.\n",
    "2. The populations really do have different means, and these population means are responsible fro causing systematic differences between the sample means."
   ]
  },
  {
   "cell_type": "markdown",
   "metadata": {},
   "source": []
  }
 ],
 "metadata": {
  "kernelspec": {
   "display_name": "Python 3",
   "language": "python",
   "name": "python3"
  },
  "language_info": {
   "codemirror_mode": {
    "name": "ipython",
    "version": 3
   },
   "file_extension": ".py",
   "mimetype": "text/x-python",
   "name": "python",
   "nbconvert_exporter": "python",
   "pygments_lexer": "ipython3",
   "version": "3.6.4"
  }
 },
 "nbformat": 4,
 "nbformat_minor": 2
}
