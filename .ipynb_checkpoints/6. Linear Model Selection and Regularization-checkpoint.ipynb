{
 "cells": [
  {
   "cell_type": "markdown",
   "metadata": {},
   "source": [
    "Typically, the standard linear model $Y=\\beta_0+\\beta_1X_1+...+\\beta_pX_p+\\epsilon$ is fitted using the least squares method. However, there are alternative fitting procedures that can yield better prediction accuracy and model interpretability.\n",
    "\n",
    "* **Prediction Accuracy:** If the true relationship between the response and the predictor is approximately linear, the least square estimates will have low bias. If the number of predictors ($p$) is much less than the number of observations ($n$) then the least square estimates tend to also have low variance, and will perform well on test observations. However, if $n$ is not much larger than p, then there can be a lot of variability in the least square fit.\n",
    "* **Model Interpretability:** Many of the variables used in a multiple regression model may not be associated with the response. By removing these variables we can obtain a model that is easily interpreted. \n",
    "\n",
    "### Subset Selection  \n",
    "Subset selection involves identifying a subset of $p$ predictors that we believe to be related to the response. When fit a model using the reduced subset."
   ]
  },
  {
   "cell_type": "code",
   "execution_count": 1,
   "metadata": {},
   "outputs": [],
   "source": [
    "import numpy as np\n",
    "import pandas as pd\n",
    "\n",
    "from sklearn.linear_model import LinearRegression\n",
    "from sklearn.model_selection import KFold,cross_val_score\n",
    "from sklearn.metrics import mean_squared_error\n",
    "\n",
    "from itertools import combinations,chain"
   ]
  },
  {
   "cell_type": "code",
   "execution_count": 2,
   "metadata": {},
   "outputs": [],
   "source": [
    "import matplotlib.pyplot as plt\n",
    "import seaborn as sns"
   ]
  },
  {
   "cell_type": "markdown",
   "metadata": {},
   "source": [
    "#### Best Subset Selection\n",
    "To perform best subset selection, we perform a seperate least square regression for each possible combination of $p$ predictors, resulting in $2^p$ possible models, with the goal of identifying the one that is best.\n",
    "This is usually broken up int two stages.\n",
    "1. Let $M_0$ denote the null model, which contains no predictors. This model simple predicts the sample mean for each observation.\n",
    "2. For $k=1,2,..p$:  \n",
    "a. Fit all $(^p_k)$ models that contain exactly k predcitors.\n",
    "b. Pick best amoung these models, and call it $M_k$. Here the best is defined as having the smallest RSS, or equivalently largest $R^2$\n",
    "3. Select a single best model from among $M_0,...,M_p$ using cross validation prediction error, $C_p (AIC), BIC$ or adjusted $R^2$"
   ]
  },
  {
   "cell_type": "markdown",
   "metadata": {},
   "source": [
    "#### Performing Best Subset Selection for Credit data set"
   ]
  },
  {
   "cell_type": "code",
   "execution_count": 3,
   "metadata": {},
   "outputs": [
    {
     "name": "stdout",
     "output_type": "stream",
     "text": [
      "<class 'pandas.core.frame.DataFrame'>\n",
      "RangeIndex: 400 entries, 0 to 399\n",
      "Data columns (total 12 columns):\n",
      "Unnamed: 0    400 non-null int64\n",
      "Income        400 non-null float64\n",
      "Limit         400 non-null int64\n",
      "Rating        400 non-null int64\n",
      "Cards         400 non-null int64\n",
      "Age           400 non-null int64\n",
      "Education     400 non-null int64\n",
      "Gender        400 non-null object\n",
      "Student       400 non-null object\n",
      "Married       400 non-null object\n",
      "Ethnicity     400 non-null object\n",
      "Balance       400 non-null int64\n",
      "dtypes: float64(1), int64(7), object(4)\n",
      "memory usage: 31.3+ KB\n"
     ]
    }
   ],
   "source": [
    "credit = pd.read_csv('./Credit.csv')\n",
    "credit.info()"
   ]
  },
  {
   "cell_type": "code",
   "execution_count": 4,
   "metadata": {},
   "outputs": [
    {
     "data": {
      "text/html": [
       "<div>\n",
       "<style scoped>\n",
       "    .dataframe tbody tr th:only-of-type {\n",
       "        vertical-align: middle;\n",
       "    }\n",
       "\n",
       "    .dataframe tbody tr th {\n",
       "        vertical-align: top;\n",
       "    }\n",
       "\n",
       "    .dataframe thead th {\n",
       "        text-align: right;\n",
       "    }\n",
       "</style>\n",
       "<table border=\"1\" class=\"dataframe\">\n",
       "  <thead>\n",
       "    <tr style=\"text-align: right;\">\n",
       "      <th></th>\n",
       "      <th>Income</th>\n",
       "      <th>Limit</th>\n",
       "      <th>Rating</th>\n",
       "      <th>Cards</th>\n",
       "      <th>Age</th>\n",
       "      <th>Education</th>\n",
       "      <th>Gender</th>\n",
       "      <th>Student</th>\n",
       "      <th>Married</th>\n",
       "      <th>Ethnicity</th>\n",
       "      <th>Balance</th>\n",
       "    </tr>\n",
       "  </thead>\n",
       "  <tbody>\n",
       "    <tr>\n",
       "      <th>0</th>\n",
       "      <td>14.891</td>\n",
       "      <td>3606</td>\n",
       "      <td>283</td>\n",
       "      <td>2</td>\n",
       "      <td>34</td>\n",
       "      <td>11</td>\n",
       "      <td>Male</td>\n",
       "      <td>No</td>\n",
       "      <td>Yes</td>\n",
       "      <td>Caucasian</td>\n",
       "      <td>333</td>\n",
       "    </tr>\n",
       "    <tr>\n",
       "      <th>1</th>\n",
       "      <td>106.025</td>\n",
       "      <td>6645</td>\n",
       "      <td>483</td>\n",
       "      <td>3</td>\n",
       "      <td>82</td>\n",
       "      <td>15</td>\n",
       "      <td>Female</td>\n",
       "      <td>Yes</td>\n",
       "      <td>Yes</td>\n",
       "      <td>Asian</td>\n",
       "      <td>903</td>\n",
       "    </tr>\n",
       "    <tr>\n",
       "      <th>2</th>\n",
       "      <td>104.593</td>\n",
       "      <td>7075</td>\n",
       "      <td>514</td>\n",
       "      <td>4</td>\n",
       "      <td>71</td>\n",
       "      <td>11</td>\n",
       "      <td>Male</td>\n",
       "      <td>No</td>\n",
       "      <td>No</td>\n",
       "      <td>Asian</td>\n",
       "      <td>580</td>\n",
       "    </tr>\n",
       "    <tr>\n",
       "      <th>3</th>\n",
       "      <td>148.924</td>\n",
       "      <td>9504</td>\n",
       "      <td>681</td>\n",
       "      <td>3</td>\n",
       "      <td>36</td>\n",
       "      <td>11</td>\n",
       "      <td>Female</td>\n",
       "      <td>No</td>\n",
       "      <td>No</td>\n",
       "      <td>Asian</td>\n",
       "      <td>964</td>\n",
       "    </tr>\n",
       "    <tr>\n",
       "      <th>4</th>\n",
       "      <td>55.882</td>\n",
       "      <td>4897</td>\n",
       "      <td>357</td>\n",
       "      <td>2</td>\n",
       "      <td>68</td>\n",
       "      <td>16</td>\n",
       "      <td>Male</td>\n",
       "      <td>No</td>\n",
       "      <td>Yes</td>\n",
       "      <td>Caucasian</td>\n",
       "      <td>331</td>\n",
       "    </tr>\n",
       "  </tbody>\n",
       "</table>\n",
       "</div>"
      ],
      "text/plain": [
       "    Income  Limit  Rating  Cards  Age  Education  Gender Student Married  \\\n",
       "0   14.891   3606     283      2   34         11    Male      No     Yes   \n",
       "1  106.025   6645     483      3   82         15  Female     Yes     Yes   \n",
       "2  104.593   7075     514      4   71         11    Male      No      No   \n",
       "3  148.924   9504     681      3   36         11  Female      No      No   \n",
       "4   55.882   4897     357      2   68         16    Male      No     Yes   \n",
       "\n",
       "   Ethnicity  Balance  \n",
       "0  Caucasian      333  \n",
       "1      Asian      903  \n",
       "2      Asian      580  \n",
       "3      Asian      964  \n",
       "4  Caucasian      331  "
      ]
     },
     "execution_count": 4,
     "metadata": {},
     "output_type": "execute_result"
    }
   ],
   "source": [
    "credit.drop('Unnamed: 0',axis=1,inplace=True)\n",
    "credit.head()"
   ]
  },
  {
   "cell_type": "code",
   "execution_count": 5,
   "metadata": {},
   "outputs": [
    {
     "name": "stdout",
     "output_type": "stream",
     "text": [
      "d_Gender factors Index([' Male', 'Female'], dtype='object')\n",
      "d_Gender factors Index(['No', 'Yes'], dtype='object')\n",
      "d_Gender factors Index(['Yes', 'No'], dtype='object')\n"
     ]
    }
   ],
   "source": [
    "# Creating dummy variables for categorical data. For variables with two levels we can use pd.factorize()\n",
    "credit['d_Gender']=pd.factorize(credit['Gender'])[0]\n",
    "print ('d_Gender factors',pd.factorize(credit['Gender'])[1])\n",
    "\n",
    "credit['d_Student']=pd.factorize(credit['Student'])[0]\n",
    "print ('d_Gender factors',pd.factorize(credit['Student'])[1])\n",
    "\n",
    "credit['d_Married']=pd.factorize(credit['Married'])[0]\n",
    "print ('d_Gender factors',pd.factorize(credit['Married'])[1])\n",
    "\n",
    "credit = pd.concat([credit,pd.get_dummies(credit['Ethnicity'],prefix='D')],axis=1)"
   ]
  },
  {
   "cell_type": "code",
   "execution_count": 6,
   "metadata": {},
   "outputs": [
    {
     "data": {
      "text/plain": [
       "Index(['Income', 'Limit', 'Rating', 'Cards', 'Age', 'Education', 'Gender',\n",
       "       'Student', 'Married', 'Ethnicity', 'Balance', 'd_Gender', 'd_Student',\n",
       "       'd_Married', 'D_African American', 'D_Asian', 'D_Caucasian'],\n",
       "      dtype='object')"
      ]
     },
     "execution_count": 6,
     "metadata": {},
     "output_type": "execute_result"
    }
   ],
   "source": [
    "credit.columns"
   ]
  },
  {
   "cell_type": "code",
   "execution_count": 7,
   "metadata": {},
   "outputs": [],
   "source": [
    "features = ['Income', 'Limit', 'Rating', 'Cards', 'Age', 'Education', 'd_Gender',\n",
    "            'd_Student', 'd_Married', 'D_African American', 'D_Asian']\n",
    "target = ['Balance']"
   ]
  },
  {
   "cell_type": "code",
   "execution_count": 8,
   "metadata": {},
   "outputs": [
    {
     "name": "stdout",
     "output_type": "stream",
     "text": [
      "('Rating',)\n",
      "('Income', 'Rating')\n",
      "('Income', 'Rating', 'd_Student')\n",
      "('Income', 'Limit', 'Cards', 'd_Student')\n",
      "('Income', 'Limit', 'Cards', 'Age', 'd_Student')\n",
      "('Income', 'Limit', 'Rating', 'Cards', 'Age', 'd_Student')\n",
      "('Income', 'Limit', 'Rating', 'Cards', 'Age', 'Education', 'd_Student')\n",
      "('Income', 'Limit', 'Rating', 'Cards', 'Age', 'Education', 'd_Gender', 'd_Student')\n",
      "('Income', 'Limit', 'Rating', 'Cards', 'Age', 'Education', 'd_Gender', 'd_Student', 'D_African American')\n",
      "('Income', 'Limit', 'Rating', 'Cards', 'Age', 'Education', 'd_Gender', 'd_Student', 'd_Married', 'D_African American')\n",
      "('Income', 'Limit', 'Rating', 'Cards', 'Age', 'Education', 'd_Gender', 'd_Student', 'd_Married', 'D_African American', 'D_Asian')\n"
     ]
    }
   ],
   "source": [
    "# Select best subset for regressor using the cross validated R^2 score\n",
    "\n",
    "regr = LinearRegression()\n",
    "# For each of the models record the test score\n",
    "r2_subset_scores =[]\n",
    "# For each of the models record the number of predictors used\n",
    "predictors = []\n",
    "# record the best subset score for the number of predictors used\n",
    "r2_best_subset =[]\n",
    "\n",
    "for n in range(1,len(features)+1):\n",
    "    best_subset_score = - np.Infinity\n",
    "    # Create subsets with n features each\n",
    "    for i,subset in enumerate(combinations(features,n)):\n",
    "        \n",
    "        X = credit[list(subset)]\n",
    "        y = credit[target]\n",
    "        # Calcuate CV score for each subset\n",
    "        subset_score = cross_val_score(regr,X,y,scoring = 'r2',cv=3).mean()\n",
    "        # Set the best subset score to the current score if it is better\n",
    "        if subset_score > best_subset_score:\n",
    "            best_subset_score = subset_score\n",
    "            best_subset = subset\n",
    "        # Store the subset score and the number of predictors used \n",
    "        r2_subset_scores.append(subset_score)\n",
    "        predictors.append(n)\n",
    "        \n",
    "    r2_best_subset.append(best_subset_score)\n",
    "    # Print best subset for each model size\n",
    "    print (best_subset)"
   ]
  },
  {
   "cell_type": "code",
   "execution_count": 9,
   "metadata": {},
   "outputs": [
    {
     "data": {
      "text/plain": [
       "Text(0,0.5,'$R^2$')"
      ]
     },
     "execution_count": 9,
     "metadata": {},
     "output_type": "execute_result"
    },
    {
     "data": {
      "image/png": "[encoded data removed]",
      "text/plain": [
       "<matplotlib.figure.Figure at 0x8f30230>"
      ]
     },
     "metadata": {},
     "output_type": "display_data"
    }
   ],
   "source": [
    "# Plot R^2 score for each of model \n",
    "plt.scatter(predictors,r2_subset_scores,alpha=0.3,edgecolors='gray',linewidths=0.5)\n",
    "# Trace curve with the best r^2 for each model size (no. of predictors)\n",
    "plt.plot(range(1,12),r2_best_subset,color ='r')\n",
    "plt.xlabel('Number of Predictors')\n",
    "plt.ylabel(r'$R^2$')"
   ]
  },
  {
   "cell_type": "code",
   "execution_count": 10,
   "metadata": {},
   "outputs": [
    {
     "name": "stdout",
     "output_type": "stream",
     "text": [
      "('Rating',)\n",
      "('Income', 'Rating')\n",
      "('Income', 'Rating', 'd_Student')\n",
      "('Income', 'Limit', 'Cards', 'd_Student')\n",
      "('Income', 'Limit', 'Cards', 'Age', 'd_Student')\n",
      "('Income', 'Limit', 'Rating', 'Cards', 'Age', 'd_Student')\n",
      "('Income', 'Limit', 'Rating', 'Cards', 'Age', 'Education', 'd_Student')\n",
      "('Income', 'Limit', 'Rating', 'Cards', 'Age', 'Education', 'd_Gender', 'd_Student')\n",
      "('Income', 'Limit', 'Rating', 'Cards', 'Age', 'Education', 'd_Gender', 'd_Student', 'D_African American')\n",
      "('Income', 'Limit', 'Rating', 'Cards', 'Age', 'Education', 'd_Gender', 'd_Student', 'd_Married', 'D_African American')\n",
      "('Income', 'Limit', 'Rating', 'Cards', 'Age', 'Education', 'd_Gender', 'd_Student', 'd_Married', 'D_African American', 'D_Asian')\n"
     ]
    }
   ],
   "source": [
    "# Select best subset for regressor using the cross validated RSS score\n",
    "\n",
    "regr = LinearRegression()\n",
    "# For each of the models record the test score\n",
    "mse_subset_scores =[]\n",
    "# For each of the models record the number of predictors used\n",
    "predictors = []\n",
    "# record the best subset score for the number of predictors used\n",
    "mse_best_subset =[]\n",
    "\n",
    "for n in range(1,len(features)+1):\n",
    "    best_subset_score = np.Infinity\n",
    "    # Create subsets with n features each\n",
    "    for i,subset in enumerate(combinations(features,n)):\n",
    "        X = credit[list(subset)]\n",
    "        y = credit[target]\n",
    "    # Calcuate CV score for each subset    \n",
    "        subset_score = -1*cross_val_score(regr,X,y,scoring = 'neg_mean_squared_error',cv=3).mean()\n",
    "        \n",
    "        if subset_score < best_subset_score:\n",
    "            best_subset_score = subset_score\n",
    "            best_subset = subset\n",
    "    # Store the subset score and the number of predictors used    \n",
    "        mse_subset_scores.append(subset_score)\n",
    "        predictors.append(n)\n",
    "        \n",
    "    mse_best_subset.append(best_subset_score)\n",
    "    # Print best subset for each model size\n",
    "    print (best_subset)"
   ]
  },
  {
   "cell_type": "code",
   "execution_count": 11,
   "metadata": {},
   "outputs": [
    {
     "data": {
      "text/plain": [
       "Text(0,0.5,'Mean Sum of Squares')"
      ]
     },
     "execution_count": 11,
     "metadata": {},
     "output_type": "execute_result"
    },
    {
     "data": {
      "image/png": "[encoded data removed]",
      "text/plain": [
       "<matplotlib.figure.Figure at 0x900e130>"
      ]
     },
     "metadata": {},
     "output_type": "display_data"
    }
   ],
   "source": [
    "# Plot R^2 score for each of model \n",
    "plt.scatter(predictors,mse_subset_scores,alpha=0.3,edgecolors='gray',linewidths=1)\n",
    "# Trace curve with the best r^2 for each model size (no. of predictors)\n",
    "plt.plot(range(1,12),mse_best_subset,color ='r')\n",
    "plt.xlabel('Number of Predictors')\n",
    "plt.ylabel('Mean Sum of Squares')"
   ]
  },
  {
   "cell_type": "markdown",
   "metadata": {},
   "source": [
    "As the number of predictors increase the model fit improves as well, however from three-variable model on, there is little improvement in RSS and $R^2$ as a result of including additional predictors.\n",
    "While the best subset selection in simple and conceptually simple, it has computational limitations. When considering a dataset with $p$ predictors there are $2^p$ possible model with needs to be evaluated to identify the best subset. Consequently, best subset selection becomes computationally infeasible for values of $p$ greater than around 20."
   ]
  },
  {
   "cell_type": "code",
   "execution_count": 12,
   "metadata": {},
   "outputs": [],
   "source": [
    "features = ['Income', 'Limit', 'Rating', 'Cards', 'Age', 'Education', 'd_Gender',\n",
    "            'd_Student', 'd_Married', 'D_African American', 'D_Asian']\n",
    "target = ['Balance']"
   ]
  },
  {
   "cell_type": "code",
   "execution_count": 18,
   "metadata": {},
   "outputs": [
    {
     "name": "stdout",
     "output_type": "stream",
     "text": [
      "['Income', 'Limit', 'Rating', 'Cards', 'Age', 'Education', 'd_Gender', 'd_Student', 'd_Married', 'D_African American', 'D_Asian']\n",
      "-0.8685620513846208\n"
     ]
    }
   ],
   "source": [
    "X = credit[['Income', 'Limit']]\n",
    "y = credit[target]\n",
    "    \n",
    "print (features)\n",
    "print (-1*cross_val_score(regr,X,y,scoring = 'r2',cv=3).mean())\n",
    "    "
   ]
  },
  {
   "cell_type": "code",
   "execution_count": 41,
   "metadata": {},
   "outputs": [],
   "source": [
    "predictors = features\n",
    "subset = []\n",
    "\n",
    "    c_scores ={}\n",
    "    for predictor in predictors:\n",
    "        X = credit[predictor]\n",
    "        y = credit[target]\n",
    "\n",
    "        if isinstance(X,pd.DataFrame):\n",
    "            c_scores[predictor] = cross_val_score(regr,X,y,scoring = 'neg_mean_squared_error',cv=3).mean()\n",
    "        else:\n",
    "            c_scores[predictor] = cross_val_score(regr,X.values.reshape(-1,1),y,scoring = 'neg_mean_squared_error',cv=3).mean()\n",
    "\n",
    "    best_predictor = max(c_scores, key = c_scores.get)\n",
    "    predictors.remove(predictor)\n",
    "    subset.append(best_predictor)"
   ]
  },
  {
   "cell_type": "code",
   "execution_count": 46,
   "metadata": {},
   "outputs": [],
   "source": [
    "predictors.remove('Rating')"
   ]
  },
  {
   "cell_type": "code",
   "execution_count": 34,
   "metadata": {},
   "outputs": [
    {
     "data": {
      "text/plain": [
       "{'Age': 213629.95839441443,\n",
       " 'Cards': 211425.5732209254,\n",
       " 'D_African American': 212027.52950065513,\n",
       " 'D_Asian': 213666.86929441823,\n",
       " 'Education': 217962.53135197566,\n",
       " 'Income': 166392.40705009957,\n",
       " 'Limit': 55692.39592383532,\n",
       " 'Rating': 54857.99588040213,\n",
       " 'd_Gender': 212708.41520254573,\n",
       " 'd_Married': 214351.38845272467,\n",
       " 'd_Student': 198397.32943453}"
      ]
     },
     "execution_count": 34,
     "metadata": {},
     "output_type": "execute_result"
    }
   ],
   "source": [
    "c_scores"
   ]
  },
  {
   "cell_type": "code",
   "execution_count": null,
   "metadata": {},
   "outputs": [],
   "source": []
  }
 ],
 "metadata": {
  "kernelspec": {
   "display_name": "Python 3",
   "language": "python",
   "name": "python3"
  },
  "language_info": {
   "codemirror_mode": {
    "name": "ipython",
    "version": 3
   },
   "file_extension": ".py",
   "mimetype": "text/x-python",
   "name": "python",
   "nbconvert_exporter": "python",
   "pygments_lexer": "ipython3",
   "version": "3.6.4"
  }
 },
 "nbformat": 4,
 "nbformat_minor": 2
}
