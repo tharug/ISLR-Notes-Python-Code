{
 "cells": [
  {
   "cell_type": "code",
   "execution_count": 1,
   "metadata": {
    "collapsed": true
   },
   "outputs": [],
   "source": [
    "# Import packages for statistical analysis\n",
    "import numpy as np\n",
    "import scipy.stats as stats\n",
    "import pandas as pd\n",
    "\n",
    "# Import package for visualisation\n",
    "import matplotlib.pyplot as plt\n",
    "%matplotlib inline"
   ]
  },
  {
   "cell_type": "code",
   "execution_count": 2,
   "metadata": {},
   "outputs": [
    {
     "data": {
      "text/html": [
       "<div>\n",
       "<style scoped>\n",
       "    .dataframe tbody tr th:only-of-type {\n",
       "        vertical-align: middle;\n",
       "    }\n",
       "\n",
       "    .dataframe tbody tr th {\n",
       "        vertical-align: top;\n",
       "    }\n",
       "\n",
       "    .dataframe thead th {\n",
       "        text-align: right;\n",
       "    }\n",
       "</style>\n",
       "<table border=\"1\" class=\"dataframe\">\n",
       "  <thead>\n",
       "    <tr style=\"text-align: right;\">\n",
       "      <th></th>\n",
       "      <th>age</th>\n",
       "      <th>gender</th>\n",
       "      <th>grade</th>\n",
       "      <th>hispanic</th>\n",
       "      <th>race</th>\n",
       "      <th>height</th>\n",
       "      <th>weight</th>\n",
       "      <th>helmet_12m</th>\n",
       "      <th>text_while_driving_30d</th>\n",
       "      <th>physically_active_7d</th>\n",
       "      <th>hours_tv_per_school_day</th>\n",
       "      <th>strength_training_7d</th>\n",
       "      <th>school_night_hours_sleep</th>\n",
       "    </tr>\n",
       "  </thead>\n",
       "  <tbody>\n",
       "    <tr>\n",
       "      <th>0</th>\n",
       "      <td>14.0</td>\n",
       "      <td>female</td>\n",
       "      <td>9</td>\n",
       "      <td>not</td>\n",
       "      <td>Black or African American</td>\n",
       "      <td>NaN</td>\n",
       "      <td>NaN</td>\n",
       "      <td>never</td>\n",
       "      <td>0</td>\n",
       "      <td>4.0</td>\n",
       "      <td>5+</td>\n",
       "      <td>0.0</td>\n",
       "      <td>8</td>\n",
       "    </tr>\n",
       "    <tr>\n",
       "      <th>1</th>\n",
       "      <td>14.0</td>\n",
       "      <td>female</td>\n",
       "      <td>9</td>\n",
       "      <td>not</td>\n",
       "      <td>Black or African American</td>\n",
       "      <td>NaN</td>\n",
       "      <td>NaN</td>\n",
       "      <td>never</td>\n",
       "      <td>NaN</td>\n",
       "      <td>2.0</td>\n",
       "      <td>5+</td>\n",
       "      <td>0.0</td>\n",
       "      <td>6</td>\n",
       "    </tr>\n",
       "    <tr>\n",
       "      <th>2</th>\n",
       "      <td>15.0</td>\n",
       "      <td>female</td>\n",
       "      <td>9</td>\n",
       "      <td>hispanic</td>\n",
       "      <td>Native Hawaiian or Other Pacific Islander</td>\n",
       "      <td>1.73</td>\n",
       "      <td>84.37</td>\n",
       "      <td>never</td>\n",
       "      <td>30</td>\n",
       "      <td>7.0</td>\n",
       "      <td>5+</td>\n",
       "      <td>0.0</td>\n",
       "      <td>&lt;5</td>\n",
       "    </tr>\n",
       "    <tr>\n",
       "      <th>3</th>\n",
       "      <td>15.0</td>\n",
       "      <td>female</td>\n",
       "      <td>9</td>\n",
       "      <td>not</td>\n",
       "      <td>Black or African American</td>\n",
       "      <td>1.60</td>\n",
       "      <td>55.79</td>\n",
       "      <td>never</td>\n",
       "      <td>0</td>\n",
       "      <td>0.0</td>\n",
       "      <td>2</td>\n",
       "      <td>0.0</td>\n",
       "      <td>6</td>\n",
       "    </tr>\n",
       "    <tr>\n",
       "      <th>4</th>\n",
       "      <td>15.0</td>\n",
       "      <td>female</td>\n",
       "      <td>9</td>\n",
       "      <td>not</td>\n",
       "      <td>Black or African American</td>\n",
       "      <td>1.50</td>\n",
       "      <td>46.72</td>\n",
       "      <td>did not ride</td>\n",
       "      <td>did not drive</td>\n",
       "      <td>2.0</td>\n",
       "      <td>3</td>\n",
       "      <td>1.0</td>\n",
       "      <td>9</td>\n",
       "    </tr>\n",
       "  </tbody>\n",
       "</table>\n",
       "</div>"
      ],
      "text/plain": [
       "    age  gender grade  hispanic                                       race  \\\n",
       "0  14.0  female     9       not                  Black or African American   \n",
       "1  14.0  female     9       not                  Black or African American   \n",
       "2  15.0  female     9  hispanic  Native Hawaiian or Other Pacific Islander   \n",
       "3  15.0  female     9       not                  Black or African American   \n",
       "4  15.0  female     9       not                  Black or African American   \n",
       "\n",
       "   height  weight    helmet_12m text_while_driving_30d  physically_active_7d  \\\n",
       "0     NaN     NaN         never                      0                   4.0   \n",
       "1     NaN     NaN         never                    NaN                   2.0   \n",
       "2    1.73   84.37         never                     30                   7.0   \n",
       "3    1.60   55.79         never                      0                   0.0   \n",
       "4    1.50   46.72  did not ride          did not drive                   2.0   \n",
       "\n",
       "  hours_tv_per_school_day  strength_training_7d school_night_hours_sleep  \n",
       "0                      5+                   0.0                        8  \n",
       "1                      5+                   0.0                        6  \n",
       "2                      5+                   0.0                       <5  \n",
       "3                       2                   0.0                        6  \n",
       "4                       3                   1.0                        9  "
      ]
     },
     "execution_count": 2,
     "metadata": {},
     "output_type": "execute_result"
    }
   ],
   "source": [
    "yrbss = pd.read_csv('./Data/yrbss.csv')\n",
    "yrbss.head()"
   ]
  },
  {
   "cell_type": "code",
   "execution_count": 3,
   "metadata": {
    "collapsed": true
   },
   "outputs": [],
   "source": [
    "heights=yrbss['height'].dropna().values"
   ]
  },
  {
   "cell_type": "code",
   "execution_count": 4,
   "metadata": {},
   "outputs": [
    {
     "data": {
      "text/plain": [
       "1.6912409571508071"
      ]
     },
     "execution_count": 4,
     "metadata": {},
     "output_type": "execute_result"
    }
   ],
   "source": [
    "# Suppose that the heights dataset is the population of interest, the population means is thus calculated as;\n",
    "pop_mean=heights.mean()\n",
    "pop_mean"
   ]
  },
  {
   "cell_type": "code",
   "execution_count": 5,
   "metadata": {},
   "outputs": [
    {
     "data": {
      "text/plain": [
       "0.10469308968966508"
      ]
     },
     "execution_count": 5,
     "metadata": {},
     "output_type": "execute_result"
    }
   ],
   "source": [
    "# Population standard deviation is;\n",
    "pop_std=heights.std()\n",
    "pop_std"
   ]
  },
  {
   "cell_type": "markdown",
   "metadata": {},
   "source": [
    "### Point Estimates\n",
    "The sample statistices provide a 'best guess' for the value of a parameter, and are called **point estimates**. If we obtain data by random sampling, then any statistic computed from that data is a random variable since its value depends on a random process. The distribution of this random variable is called a **sampling distribution**. \n",
    "\n",
    "**Sampling distribution** represents the distribution of the point estimates based on samples of a fixed size from a certain population."
   ]
  },
  {
   "cell_type": "code",
   "execution_count": 6,
   "metadata": {},
   "outputs": [
    {
     "data": {
      "text/plain": [
       "1.6708"
      ]
     },
     "execution_count": 6,
     "metadata": {},
     "output_type": "execute_result"
    }
   ],
   "source": [
    "# Suppose we take sample of 10 observations;\n",
    "sample_heights=np.random.choice(heights,100)\n",
    "sample_heights.mean()"
   ]
  },
  {
   "cell_type": "code",
   "execution_count": 7,
   "metadata": {
    "collapsed": true
   },
   "outputs": [],
   "source": [
    "# Sampling distribution for 1000 samples of size 100\n",
    "def sample_dist(population, sample_size, samples):\n",
    "    sample_means=[]\n",
    "    \n",
    "    for draw in range(samples):\n",
    "        sample = np.random.choice(population,sample_size)\n",
    "        sample_means.append(sample.mean())\n",
    "        \n",
    "    return sample_means"
   ]
  },
  {
   "cell_type": "code",
   "execution_count": 8,
   "metadata": {},
   "outputs": [
    {
     "data": {
      "image/png": "[encoded data removed]",
      "text/plain": [
       "<matplotlib.figure.Figure at 0x8a44c10>"
      ]
     },
     "metadata": {},
     "output_type": "display_data"
    }
   ],
   "source": [
    "sample_mean=sample_dist(heights,100,10000)\n",
    "\n",
    "plt.hist(x = sample_mean, bins = np.linspace(1.65, 1.72, 50), edgecolor = 'g', alpha = 0.5)\n",
    "plt.vlines(pop_mean,ymax=625,ymin=0);"
   ]
  },
  {
   "cell_type": "markdown",
   "metadata": {},
   "source": [
    "The distribution of the sample means (point estimate) tend to 'fall around' the population mean (parameter). With some variability around the population mean. This variability can be quantified by taking the standard deviation of the sample means."
   ]
  },
  {
   "cell_type": "markdown",
   "metadata": {},
   "source": [
    "#### Sampling Error\n",
    "Usually, different random samples selected from the same population will give different results because they contain different elements. The different between the value of a sample stistic and the value of the corresponding population parameter is called the **sampling error**.  \n",
    "In the case of the mean;\n",
    "$$\\text{sampling error}=\\bar x -\\mu$$\n",
    "However, in the real world, it is not possible to find the sampling error because $\\mu$ is not known.\n",
    "Sampling error occures because of chance, errors that occure for other reasons, such as errors made during collecting, recording and tabulating data, are called **non-samping error**"
   ]
  },
  {
   "cell_type": "markdown",
   "metadata": {},
   "source": [
    "### Central Limit Theorem\n",
    "If a sample consist of at least 30 independent observations and the data are not strongly skewed, then the distribution of the sample means can be approximated by a normal model."
   ]
  },
  {
   "cell_type": "markdown",
   "metadata": {},
   "source": [
    "The standard deviation associated with an estimate is called the _**standard error**_, and describes the typical error or uncertainty associated with the estimate. \n",
    "\n",
    "When the sampling distribution is for the sample mean,  this is called the _standard error of the mean_ (SEM) and is equal to;\n",
    "$$SE=\\frac{\\sigma}{\\sqrt{n}}$$\n",
    "\n",
    "Since the population standard deviation is seldom known, the standard error of the mean is usually estimated as;\n",
    "$$SE=\\frac{s}{\\sqrt{n}}$$\n",
    "where $s$ is the sample standard deviation.\n",
    "\n",
    "A large SEM indicates that there is lot of variability between the means of different samples. As the sample size increase the variability between sample means reduce."
   ]
  },
  {
   "cell_type": "code",
   "execution_count": 9,
   "metadata": {},
   "outputs": [
    {
     "data": {
      "image/png": "[encoded data removed]",
      "text/plain": [
       "<matplotlib.figure.Figure at 0x8b9ffb0>"
      ]
     },
     "metadata": {},
     "output_type": "display_data"
    }
   ],
   "source": [
    "# Computing sampling means for 10000 samples of size 100\n",
    "sample_dist1 = sample_dist(heights,100,10000)\n",
    "\n",
    "plt.hist(x = sample_dist1, bins = np.linspace(1.655, 1.725, 50), edgecolor = 'g', alpha = 0.75)\n",
    "\n",
    "# Computing sampling means for 10000 samples of size 500\n",
    "sample_dist2 = sample_dist(heights,500,10000)\n",
    "\n",
    "plt.hist(x = sample_dist2, bins = np.linspace(1.655, 1.725, 50), edgecolor = 'g', alpha = 0.75)\n",
    "plt.vlines(1.691,ymax=1250,ymin=0);"
   ]
  },
  {
   "cell_type": "markdown",
   "metadata": {},
   "source": [
    "### Confidence Interval\n",
    "A point estimate provides a single plausible value for a parameter. However, a point estimate is rarely perfect. Instead it logical to providing a plausibe _range of values_ within which the true parameter value will fall. Such a range is called **_confidence interval_**.\n",
    "\n",
    "For a normal distribution, 95% of observations fall within 1.96 standard deviations of the mean. Thus,\n",
    "$$P(-1.96 \\leq Z \\leq 1.96)=.95$$\n",
    "\n",
    "Sampling distribution of $\\bar x$ is nearly normal when; \n",
    "1. Sample size is large ($n \\geq 30$ is a good rule of thumb) \n",
    "2. Sample observations are independent\n",
    "3. The population distribution is not strongly skewed\n",
    "\n",
    "Under these conditions the sampling distribution is nearly normal with a mean of $\\mu$ and a standard deviation of $SE_\\bar x$. For a random variable $\\bar x$;\n",
    "\n",
    "$$P(-1.96 \\leq \\frac{\\bar x - \\mu}{SE_\\bar x}\\leq 1.96)=.95$$\n",
    "\n",
    "$$P(-1.96\\times{SE_\\bar x} \\leq \\bar x - \\mu \\leq 1.96\\times{SE_\\bar x})=.95$$\n",
    "\n",
    "$$P(\\bar x - (1.96\\times{SE_\\bar x}) \\leq \\mu \\leq \\bar x  + (1.96\\times{SE_\\bar x}))=.95$$\n",
    "\n",
    "Thus the interval $\\bar x \\pm (1.96\\times{SE_\\bar x})$ is called the 95% confidence interval for the mean.\n",
    "\n",
    "If we generated many samples, we would expect approximately 95% of the samples to product confidence intervales that correctly contain the population mean."
   ]
  },
  {
   "cell_type": "markdown",
   "metadata": {},
   "source": [
    "Generally, if the point estimates follows the normal model with standard error SE, then a confidence interval for the population parameter is;\n",
    "$$\\text{point estimate} \\pm z^*SE$$\n",
    "where $z^*$ correspond to the confidence level selected.\n",
    "The value $z^*$ is called the **margin of error**"
   ]
  },
  {
   "cell_type": "code",
   "execution_count": 10,
   "metadata": {
    "collapsed": true
   },
   "outputs": [],
   "source": [
    "# Suppose we have 100 samples with 100 observations each\n",
    "sample_mean = []\n",
    "margin_err =[]\n",
    "\n",
    "for sample in range(100):\n",
    "    sample_heights = np.random.choice(heights,100)\n",
    "    sample_mean.append(sample_heights.mean())\n",
    "    margin_err.append(1.96 * (np.std(heights)/np.sqrt(100)))"
   ]
  },
  {
   "cell_type": "code",
   "execution_count": 11,
   "metadata": {},
   "outputs": [
    {
     "data": {
      "text/plain": [
       "<matplotlib.collections.LineCollection at 0x8b00530>"
      ]
     },
     "execution_count": 11,
     "metadata": {},
     "output_type": "execute_result"
    },
    {
     "data": {
      "image/png": "[encoded data removed]",
      "text/plain": [
       "<matplotlib.figure.Figure at 0x8cd9af0>"
      ]
     },
     "metadata": {},
     "output_type": "display_data"
    }
   ],
   "source": [
    "plt.figure(figsize=(12,6))\n",
    "plt.errorbar(x=range(1,101),y=sample_mean, yerr=margin_err,linestyle='None',marker='.')\n",
    "plt.hlines(y=np.mean(heights), xmin= 0, xmax= 101)"
   ]
  },
  {
   "cell_type": "code",
   "execution_count": 12,
   "metadata": {},
   "outputs": [
    {
     "name": "stdout",
     "output_type": "stream",
     "text": [
      "Number of confident intervals capturing the true mean: 98\n"
     ]
    }
   ],
   "source": [
    "conf_int=[]\n",
    "for sample in range(100):\n",
    "    if np.mean(heights) >= sample_mean[sample] - margin_err[sample] and np.mean(heights) <= sample_mean[sample] + margin_err[sample]:\n",
    "        conf_int.append(True)\n",
    "    else:\n",
    "        conf_int.append(False)\n",
    "\n",
    "print ('Number of confident intervals capturing the true mean:', np.sum(conf_int))"
   ]
  },
  {
   "cell_type": "markdown",
   "metadata": {},
   "source": [
    "#### Hypothisis Testing\n",
    "The point estimate represents our 'best guess' of a parameter value based on the sample data. **Hypothesis testing** or **significance testing** is a method for testing a claim or a hypothesis about a parameter in a population, using data measured in a sample.\n",
    "\n",
    "We begin by stating the **null hypothesis**($H_0$), which we presume to be true. The null hypothesis often represent either a skeptical prespective or a claim to be tested. The **alternative hypothesis** ($H_A$) represents an alternative claim under consideration and is often represented by a range of possible parameter values. The null and alternative hypothesis are mutually exclusive. We will not reject the null hypothesis, unless there is strong evidence in favor of the alternative hypothesis. Even if we fail to reject the null hypothesis, we typically do not accept the null hypothesis as true."
   ]
  },
  {
   "cell_type": "markdown",
   "metadata": {},
   "source": [
    "#### Stating the hypotheses\n",
    "The null hypothesis represents a\n",
    "\n",
    "Suppose that students from 2011 YRBSS survey performed strenght training 3.09 days per week on average. Using a sample of students from the 2013 YRBSS surevey we want to determine whether  students are lifting more or less than the 2011 students.  \n",
    "To test this assumption we can state the null hypothesis as;   \n",
    "$H_0$:  The average days per week is the same for 2011 and 2013,  \n",
    "we can state a cotradictory position in the alternative hypothesis;  \n",
    "$H_A$:  The average days per week is different for 2013 than in 2013\n",
    "\n",
    "It is always useful if the null hypothesis is stated as an equality while the alternative always uses an inequality.\n",
    "\n",
    "These hypothesis can be described in mathematical notation using $\\mu_{13}$ as the average days of weight lifting for 2013:\n",
    "$$H_0:\\mu_{13}=3.09$$\n",
    "$$H_1:\\mu_{13}\\neq3.09$$\n",
    "Where 3.09 is the average number of days per week of strenght training in 2011. We call 3.09 the **null value** since it represents the value of the parameter if the null hypothesis is true."
   ]
  },
  {
   "cell_type": "markdown",
   "metadata": {},
   "source": [
    "#### Error Types\n",
    "When we perform an hypothesis test, it is possible that a conclusion may be wrong.\n",
    "It is possible that we will reject the $H_0$, when in reality it is correct. This type of error is known as **Type 1 error**. The probability that we will reject the null hypothesis incorrectly is refered to as the **level of significance** and is denoted by $\\alpha$.  \n",
    "It is also possible that we will not reject $H_0$, when in reality $H_0$ is incorrect. This type of error is known as a **Type 2 error** or $\\beta$ error."
   ]
  },
  {
   "cell_type": "markdown",
   "metadata": {},
   "source": [
    "<table>\n",
    "    <theader>\n",
    "    <tr>\n",
    "    <th>Truth</th>\n",
    "    <th colspan=\"2\" align=\"right\">Test Conclusion</th>\n",
    "    </tr>\n",
    "    </theader>\n",
    "    <tr>\n",
    "        <td></td>\n",
    "        <td>Do not reject $H_0$</td>\n",
    "        <td>reject $H_0$ in favor of $H_A$</td>\n",
    "    </tr>\n",
    "        <tr>    \n",
    "        <td>$H_0$ true</td>\n",
    "        <td>ok</td>\n",
    "        <td>Type 1 error</td>\n",
    "    </tr>\n",
    "        <tr>\n",
    "        <td>$H_A$ true</td>\n",
    "        <td>Type 2 error</td>\n",
    "        <td>ok</td>\n",
    "    </tr>\n",
    "</table>"
   ]
  },
  {
   "cell_type": "code",
   "execution_count": 17,
   "metadata": {},
   "outputs": [
    {
     "name": "stdout",
     "output_type": "stream",
     "text": [
      "Sample Mean of the dataset\n",
      "\t 2.78\n",
      "Standard Deviation (SE) of the sampling distribution\n",
      "\t 0.25764277203096153\n",
      "Distance between the null value and the sample mean\n",
      "\t -0.31000000000000005\n"
     ]
    }
   ],
   "source": [
    "# sample of 100 students\n",
    "yrbss_sample = pd.read_csv('./Data/yrbss_samp.csv')\n",
    "\n",
    "# Null value\n",
    "null_value = 3.09\n",
    "\n",
    "# Calculate the sample mean\n",
    "strengh_training = yrbss_sample['strength_training_7d'].dropna()\n",
    "\n",
    "st_mean = strengh_training.mean()\n",
    "st_se = strengh_training.std() / np.sqrt(len(strengh_training))\n",
    "\n",
    "print ('Sample Mean of the dataset\\n\\t', st_mean)\n",
    "print ('Standard Deviation (SE) of the sampling distribution\\n\\t', st_se)\n",
    "print ('Distance between the null value and the sample mean\\n\\t', (st_mean-null_value))"
   ]
  },
  {
   "cell_type": "code",
   "execution_count": 19,
   "metadata": {},
   "outputs": [
    {
     "data": {
      "text/plain": [
       "<matplotlib.collections.PolyCollection at 0x925d710>"
      ]
     },
     "execution_count": 19,
     "metadata": {},
     "output_type": "execute_result"
    },
    {
     "data": {
      "image/png": "[encoded data removed]",
      "text/plain": [
       "<matplotlib.figure.Figure at 0x9235b30>"
      ]
     },
     "metadata": {},
     "output_type": "display_data"
    }
   ],
   "source": [
    "x= np.arange(2,4.1,0.01)\n",
    "\n",
    "# Define the sampling distribution\n",
    "sampling_dist = stats.t(loc = 3.09, scale = st_se, df = len(strengh_training) -1)\n",
    "# Plot the sampling distribution for the sample mean\n",
    "plt.plot(x,sampling_dist.pdf(x)*st_se)\n",
    "plt.vlines(x= 3.09, ymin=0, ymax=0.40, linestyles= 'dashed', color= 'grey')\n",
    "\n",
    "# Indicate where observed sample mean falls on the sampling distribution\n",
    "plt.vlines(x= 2.78, ymin=0, ymax=0.40, linestyles= 'dotted', color= 'grey')\n",
    "plt.fill_between(x = np.arange(2,2.78,0.01), y1= sampling_dist.pdf(np.arange(2,2.78,0.01))*st_se, color='green', alpha = 0.3)"
   ]
  },
  {
   "cell_type": "markdown",
   "metadata": {},
   "source": [
    "Using the sampling distribution we can calculate the probability of the sample mean deviating more than -0.31 meters from the mean."
   ]
  },
  {
   "cell_type": "code",
   "execution_count": 22,
   "metadata": {},
   "outputs": [
    {
     "name": "stdout",
     "output_type": "stream",
     "text": [
      "Probability of getting a sample mean more than -0.31 away from the null value 0.11588102561619848\n",
      "Probability of getting a sample mean more than -0.59 away from the null value 0.012071974663994567\n"
     ]
    }
   ],
   "source": [
    "# probability of getting the point estimate atleast as extream as the observed point estimate, i.e - 0.31 away from the mean (3.09)\n",
    "# can be cacluated using the cdf\n",
    "print ('Probability of getting a sample mean more than -0.31 away from the null value',sampling_dist.cdf(2.78))\n",
    "\n",
    "# Suppose the sample mean observed is 2.5\n",
    "print ('Probability of getting a sample mean more than -0.59 away from the null value',sampling_dist.cdf(2.50))"
   ]
  },
  {
   "cell_type": "markdown",
   "metadata": {},
   "source": [
    "##### Test Statistic\n",
    "A test statistic is a value that is calculated that compares the sample data with what is expected under the null hypothesis. An important property of a test statistic is that it's sampling distribution is calculable. By knowing this we can calculate the probability of obtaining a particular value. This allows us to establish how likey it would be to get a test statistic if the null hypothesis was true.  \n",
    "\n",
    "Usually, rather than using the sampling distribution and the sample mean we will calculate a **_test statistic_** called, the $t$ statistic, which follows a $t$-distribution with n-1 degrees of freedom. We calculate the $t$ statistic by;\n",
    "$$t = \\frac{\\bar x - \\mu_0}{SE_x}$$\n",
    "\n",
    "Given the sampling distribution we can calculate the probability of observing data at least as extreme ($\\leq 2.78$) if the null hypothesis is true, is refered to as the **p-value**. "
   ]
  },
  {
   "cell_type": "markdown",
   "metadata": {},
   "source": [
    "#### Significance Level\n",
    "The decision whether accept or reject the null hypothesis is taken based on how likely it is for us to obtain large difference between the  by chance, given the null hypothesis is true."
   ]
  },
  {
   "cell_type": "markdown",
   "metadata": {},
   "source": [
    "#### One-tailed and Two-taied test\n",
    "Given a null hypothesis there are three possible alternative hypothesis;  \n",
    "Left tail test: $H_0: \\bar x\\geq \\mu_0$ and $H_1: \\bar x < \\mu_0$  \n",
    "Right tail test: $H_0: \\bar x\\leq \\mu_0$ and $H_1: \\bar x > \\mu_0$  \n",
    "Two tail test: $H_0: \\bar x= \\mu_0$ and $H_1: \\bar x \\neq \\mu_0$\n",
    "\n",
    "For a two tailed test, the rejection region the extream observations will be split between the two tails of the distribution. For a alpha level of 5%, each tail will contain 2.5% of extreme values."
   ]
  },
  {
   "cell_type": "markdown",
   "metadata": {},
   "source": []
  },
  {
   "cell_type": "code",
   "execution_count": 19,
   "metadata": {},
   "outputs": [
    {
     "data": {
      "text/plain": [
       "<matplotlib.collections.PolyCollection at 0x951fcb0>"
      ]
     },
     "execution_count": 19,
     "metadata": {},
     "output_type": "execute_result"
    },
    {
     "data": {
      "image/png": "[encoded data removed]",
      "text/plain": [
       "<matplotlib.figure.Figure at 0x964ead0>"
      ]
     },
     "metadata": {},
     "output_type": "display_data"
    }
   ],
   "source": [
    "# Suppose we define the significance level to be 0.05\n",
    "c1,c2=stats.t.ppf([0.025,0.975],df=99, loc=3.09, scale =se)\n",
    "\n",
    "x= np.arange(2,4.1,0.01)\n",
    "# Plot the sampling distribution for the sample mean\n",
    "plt.plot(x,stats.t.pdf(x,df= 99, loc = 3.09, scale = se)*se)\n",
    "plt.vlines(x= 3.09, ymin=0, ymax=0.40, linestyles= 'dashed', color= 'grey')\n",
    "\n",
    "# Indicate where observed sample mean falls on the sampling distribution\n",
    "plt.vlines(x= c1, ymin=0, ymax=0.40, linestyles= 'dotted', color= 'grey')\n",
    "plt.vlines(x= c2, ymin=0, ymax=0.40, linestyles= 'dotted', color= 'grey')\n",
    "\n",
    "plt.fill_between(x = np.arange(c1,c2,0.01), y1= stats.t.pdf(np.arange(c1,c2,0.01),df= 99, loc = 3.09,  scale = se)*se, color='green', alpha = 0.3)\n",
    "\n",
    "# We will reject any value within the rejection region\n",
    "plt.fill_between(x = np.arange(2,c1,0.01), y1= stats.t.pdf(np.arange(2,c1,0.01),df= 99, loc = 3.09,  scale = se)*se, color='orange', alpha = 0.3)\n",
    "plt.fill_between(x = np.arange(c2,4,0.01), y1= stats.t.pdf(np.arange(c2,4,0.01),df= 99, loc = 3.09,  scale = se)*se, color='orange', alpha = 0.3)"
   ]
  },
  {
   "cell_type": "markdown",
   "metadata": {},
   "source": [
    "For the YRBSS data the critical values can be calculated as 2.58 and 3.60 and We will reject any sample statistic that is $< 2.58$ or $>3.60$.\n",
    "\n",
    "In case of the YRBSS sample data the sample mean falls within the non-rejection region. Thus we will not reject the null hypothesis."
   ]
  },
  {
   "cell_type": "markdown",
   "metadata": {},
   "source": [
    "#### Effect Size\n",
    "When we observe a significant result it does not necessarily indicate a substantial difference. Instead, the hypothesis test simply establishes that the results obtained in the sample is unlikely to have occured by chance.\n",
    "A measure of effect size is intended to provide a measurement of the absolute magnitude of the difference between the null value and the test statistic.\n",
    "\n",
    "An common method of measuring the effect size is by calculating cohen's *d*\n",
    "$$\\text{Cohen's d}=\\frac{\\text{mean difference}}{\\text{standard deviation}}$$\n",
    "\n",
    "Typically, we will evaluate the effect size using the following guildlines;\n",
    "\n",
    "<table>\n",
    "    <tr>\n",
    "        <td>Magnitute of _d_</td>\n",
    "        <td>Effect size</td>\n",
    "    </tr>\n",
    "        <tr>\n",
    "        <td>_d_=0.2</td>\n",
    "        <td>Small Effect</td>\n",
    "    </tr>\n",
    "        <tr>\n",
    "        <td>_d_=0.5</td>\n",
    "        <td>Medium Effect</td>\n",
    "    </tr>\n",
    "        <tr>\n",
    "        <td>_d_=0.8</td>\n",
    "        <td>Large Effect</td>\n",
    "    </tr>\n",
    "</table>\n"
   ]
  },
  {
   "cell_type": "markdown",
   "metadata": {},
   "source": [
    "### Paired Data\n",
    "Two sets of observations are *paired* if each observation is one set has a special correspondence or connection with exactly one observation in the other data set."
   ]
  },
  {
   "cell_type": "code",
   "execution_count": 27,
   "metadata": {},
   "outputs": [
    {
     "data": {
      "text/html": [
       "<div>\n",
       "<style scoped>\n",
       "    .dataframe tbody tr th:only-of-type {\n",
       "        vertical-align: middle;\n",
       "    }\n",
       "\n",
       "    .dataframe tbody tr th {\n",
       "        vertical-align: top;\n",
       "    }\n",
       "\n",
       "    .dataframe thead th {\n",
       "        text-align: right;\n",
       "    }\n",
       "</style>\n",
       "<table border=\"1\" class=\"dataframe\">\n",
       "  <thead>\n",
       "    <tr style=\"text-align: right;\">\n",
       "      <th></th>\n",
       "      <th>deptAbbr</th>\n",
       "      <th>course</th>\n",
       "      <th>ibsn</th>\n",
       "      <th>uclaNew</th>\n",
       "      <th>amazNew</th>\n",
       "      <th>more</th>\n",
       "      <th>diff</th>\n",
       "    </tr>\n",
       "  </thead>\n",
       "  <tbody>\n",
       "    <tr>\n",
       "      <th>0</th>\n",
       "      <td>Am Ind</td>\n",
       "      <td>C170</td>\n",
       "      <td>978-0803272620</td>\n",
       "      <td>27.67</td>\n",
       "      <td>27.95</td>\n",
       "      <td>Y</td>\n",
       "      <td>-0.28</td>\n",
       "    </tr>\n",
       "    <tr>\n",
       "      <th>1</th>\n",
       "      <td>Anthro</td>\n",
       "      <td>9</td>\n",
       "      <td>978-0030119194</td>\n",
       "      <td>40.59</td>\n",
       "      <td>31.14</td>\n",
       "      <td>Y</td>\n",
       "      <td>9.45</td>\n",
       "    </tr>\n",
       "    <tr>\n",
       "      <th>2</th>\n",
       "      <td>Anthro</td>\n",
       "      <td>135T</td>\n",
       "      <td>978-0300080643</td>\n",
       "      <td>31.68</td>\n",
       "      <td>32.00</td>\n",
       "      <td>Y</td>\n",
       "      <td>-0.32</td>\n",
       "    </tr>\n",
       "    <tr>\n",
       "      <th>3</th>\n",
       "      <td>Anthro</td>\n",
       "      <td>191HB</td>\n",
       "      <td>978-0226206813</td>\n",
       "      <td>16.00</td>\n",
       "      <td>11.52</td>\n",
       "      <td>Y</td>\n",
       "      <td>4.48</td>\n",
       "    </tr>\n",
       "    <tr>\n",
       "      <th>4</th>\n",
       "      <td>Art His</td>\n",
       "      <td>M102K</td>\n",
       "      <td>978-0892365999</td>\n",
       "      <td>18.95</td>\n",
       "      <td>14.21</td>\n",
       "      <td>Y</td>\n",
       "      <td>4.74</td>\n",
       "    </tr>\n",
       "  </tbody>\n",
       "</table>\n",
       "</div>"
      ],
      "text/plain": [
       "  deptAbbr course            ibsn  uclaNew  amazNew more  diff\n",
       "0   Am Ind   C170  978-0803272620    27.67    27.95    Y -0.28\n",
       "1   Anthro      9  978-0030119194    40.59    31.14    Y  9.45\n",
       "2   Anthro   135T  978-0300080643    31.68    32.00    Y -0.32\n",
       "3   Anthro  191HB  978-0226206813    16.00    11.52    Y  4.48\n",
       "4  Art His  M102K  978-0892365999    18.95    14.21    Y  4.74"
      ]
     },
     "execution_count": 27,
     "metadata": {},
     "output_type": "execute_result"
    }
   ],
   "source": [
    "textbook = pd.read_table('./Data/textbooks.txt')\n",
    "textbook.head()"
   ]
  },
  {
   "cell_type": "code",
   "execution_count": 28,
   "metadata": {},
   "outputs": [
    {
     "data": {
      "text/plain": [
       "Ttest_relResult(statistic=7.648771112479753, pvalue=6.927581126065491e-11)"
      ]
     },
     "execution_count": 28,
     "metadata": {},
     "output_type": "execute_result"
    }
   ],
   "source": [
    "stats.ttest_rel(textbook['uclaNew'], textbook['amazNew'])"
   ]
  },
  {
   "cell_type": "code",
   "execution_count": 29,
   "metadata": {},
   "outputs": [
    {
     "data": {
      "text/html": [
       "<div>\n",
       "<style scoped>\n",
       "    .dataframe tbody tr th:only-of-type {\n",
       "        vertical-align: middle;\n",
       "    }\n",
       "\n",
       "    .dataframe tbody tr th {\n",
       "        vertical-align: top;\n",
       "    }\n",
       "\n",
       "    .dataframe thead th {\n",
       "        text-align: right;\n",
       "    }\n",
       "</style>\n",
       "<table border=\"1\" class=\"dataframe\">\n",
       "  <thead>\n",
       "    <tr style=\"text-align: right;\">\n",
       "      <th></th>\n",
       "      <th>fage</th>\n",
       "      <th>mage</th>\n",
       "      <th>mature</th>\n",
       "      <th>weeks</th>\n",
       "      <th>premie</th>\n",
       "      <th>visits</th>\n",
       "      <th>marital</th>\n",
       "      <th>gained</th>\n",
       "      <th>weight</th>\n",
       "      <th>lowbirthweight</th>\n",
       "      <th>gender</th>\n",
       "      <th>habit</th>\n",
       "      <th>whitemom</th>\n",
       "    </tr>\n",
       "  </thead>\n",
       "  <tbody>\n",
       "    <tr>\n",
       "      <th>0</th>\n",
       "      <td>NaN</td>\n",
       "      <td>13</td>\n",
       "      <td>younger mom</td>\n",
       "      <td>39.0</td>\n",
       "      <td>full term</td>\n",
       "      <td>10.0</td>\n",
       "      <td>married</td>\n",
       "      <td>38.0</td>\n",
       "      <td>7.63</td>\n",
       "      <td>not low</td>\n",
       "      <td>male</td>\n",
       "      <td>nonsmoker</td>\n",
       "      <td>not white</td>\n",
       "    </tr>\n",
       "    <tr>\n",
       "      <th>1</th>\n",
       "      <td>NaN</td>\n",
       "      <td>14</td>\n",
       "      <td>younger mom</td>\n",
       "      <td>42.0</td>\n",
       "      <td>full term</td>\n",
       "      <td>15.0</td>\n",
       "      <td>married</td>\n",
       "      <td>20.0</td>\n",
       "      <td>7.88</td>\n",
       "      <td>not low</td>\n",
       "      <td>male</td>\n",
       "      <td>nonsmoker</td>\n",
       "      <td>not white</td>\n",
       "    </tr>\n",
       "    <tr>\n",
       "      <th>2</th>\n",
       "      <td>19.0</td>\n",
       "      <td>15</td>\n",
       "      <td>younger mom</td>\n",
       "      <td>37.0</td>\n",
       "      <td>full term</td>\n",
       "      <td>11.0</td>\n",
       "      <td>married</td>\n",
       "      <td>38.0</td>\n",
       "      <td>6.63</td>\n",
       "      <td>not low</td>\n",
       "      <td>female</td>\n",
       "      <td>nonsmoker</td>\n",
       "      <td>white</td>\n",
       "    </tr>\n",
       "    <tr>\n",
       "      <th>3</th>\n",
       "      <td>21.0</td>\n",
       "      <td>15</td>\n",
       "      <td>younger mom</td>\n",
       "      <td>41.0</td>\n",
       "      <td>full term</td>\n",
       "      <td>6.0</td>\n",
       "      <td>married</td>\n",
       "      <td>34.0</td>\n",
       "      <td>8.00</td>\n",
       "      <td>not low</td>\n",
       "      <td>male</td>\n",
       "      <td>nonsmoker</td>\n",
       "      <td>white</td>\n",
       "    </tr>\n",
       "    <tr>\n",
       "      <th>4</th>\n",
       "      <td>NaN</td>\n",
       "      <td>15</td>\n",
       "      <td>younger mom</td>\n",
       "      <td>39.0</td>\n",
       "      <td>full term</td>\n",
       "      <td>9.0</td>\n",
       "      <td>married</td>\n",
       "      <td>27.0</td>\n",
       "      <td>6.38</td>\n",
       "      <td>not low</td>\n",
       "      <td>female</td>\n",
       "      <td>nonsmoker</td>\n",
       "      <td>not white</td>\n",
       "    </tr>\n",
       "  </tbody>\n",
       "</table>\n",
       "</div>"
      ],
      "text/plain": [
       "   fage  mage       mature  weeks     premie  visits  marital  gained  weight  \\\n",
       "0   NaN    13  younger mom   39.0  full term    10.0  married    38.0    7.63   \n",
       "1   NaN    14  younger mom   42.0  full term    15.0  married    20.0    7.88   \n",
       "2  19.0    15  younger mom   37.0  full term    11.0  married    38.0    6.63   \n",
       "3  21.0    15  younger mom   41.0  full term     6.0  married    34.0    8.00   \n",
       "4   NaN    15  younger mom   39.0  full term     9.0  married    27.0    6.38   \n",
       "\n",
       "  lowbirthweight  gender      habit   whitemom  \n",
       "0        not low    male  nonsmoker  not white  \n",
       "1        not low    male  nonsmoker  not white  \n",
       "2        not low  female  nonsmoker      white  \n",
       "3        not low    male  nonsmoker      white  \n",
       "4        not low  female  nonsmoker  not white  "
      ]
     },
     "execution_count": 29,
     "metadata": {},
     "output_type": "execute_result"
    }
   ],
   "source": [
    "baby_smoke = pd.read_table('./Data/baby_smoke.txt')\n",
    "baby_smoke.head()"
   ]
  },
  {
   "cell_type": "code",
   "execution_count": 30,
   "metadata": {},
   "outputs": [],
   "source": [
    "smoker = baby_smoke['weight'][baby_smoke['habit']=='smoker']\n",
    "nonsmoker = baby_smoke['weight'][baby_smoke['habit']=='nonsmoker']"
   ]
  },
  {
   "cell_type": "code",
   "execution_count": 36,
   "metadata": {},
   "outputs": [
    {
     "data": {
      "text/plain": [
       "Ttest_indResult(statistic=-2.3590109449335013, pvalue=0.01945055644373227)"
      ]
     },
     "execution_count": 36,
     "metadata": {},
     "output_type": "execute_result"
    }
   ],
   "source": [
    "stats.ttest_ind(smoker,nonsmoker)"
   ]
  },
  {
   "cell_type": "code",
   "execution_count": 35,
   "metadata": {},
   "outputs": [
    {
     "data": {
      "text/plain": [
       "126"
      ]
     },
     "execution_count": 35,
     "metadata": {},
     "output_type": "execute_result"
    }
   ],
   "source": [
    "len(smoker)"
   ]
  },
  {
   "cell_type": "code",
   "execution_count": null,
   "metadata": {},
   "outputs": [],
   "source": []
  }
 ],
 "metadata": {
  "kernelspec": {
   "display_name": "Python 3",
   "language": "python",
   "name": "python3"
  },
  "language_info": {
   "codemirror_mode": {
    "name": "ipython",
    "version": 3
   },
   "file_extension": ".py",
   "mimetype": "text/x-python",
   "name": "python",
   "nbconvert_exporter": "python",
   "pygments_lexer": "ipython3",
   "version": "3.6.4"
  }
 },
 "nbformat": 4,
 "nbformat_minor": 2
}
