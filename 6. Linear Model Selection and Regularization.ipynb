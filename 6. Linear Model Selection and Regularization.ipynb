{
 "cells": [
  {
   "cell_type": "code",
   "execution_count": 1,
   "metadata": {},
   "outputs": [],
   "source": [
    "from sklearn.linear_model import LinearRegression\n",
    "from sklearn.model_selection import KFold,cross_val_score\n",
    "from sklearn.metrics import mean_squared_error\n",
    "\n",
    "from itertools import combinations,chain"
   ]
  },
  {
   "cell_type": "code",
   "execution_count": 2,
   "metadata": {},
   "outputs": [],
   "source": [
    "import numpy as np\n",
    "import pandas as pd"
   ]
  },
  {
   "cell_type": "code",
   "execution_count": 55,
   "metadata": {},
   "outputs": [],
   "source": [
    "import matplotlib.pyplot as plt\n",
    "import seaborn as sns\n",
    "\n",
    "sns.set_style(\"whitegrid\")\n",
    "\n",
    "%matplotlib inline"
   ]
  },
  {
   "cell_type": "markdown",
   "metadata": {},
   "source": [
    "The standard linear model $Y=\\beta_0+\\beta_1X_1+...+\\beta_pX_p+\\epsilon$ is used to describe the relationship between response $Y$ and a set of variables $X_1,...,X_p$. Usually, the model is fitted using least square method. However, it is possible to use other fitting procedures that can yeild prediction accuracy and model interpritability.\n",
    "\n",
    "* **Prediction Accuracy:** If the true relationship between the response and the predictor is approximately linear, the least square estimates will have low bias. If the number of predictors ($p$) is much less than the number of observations ($n$) then the least square estimates tend to also have low variance, and will perform well on test observations. However, if $n$ is not much larger than p, then there can be a lot of variability in the least square fit.\n",
    "* **Model Interpretability:** Many of the variables used in a multiple regression model may not be associated with the response. By removing these variables we can obtain a model that is easily interpreted."
   ]
  },
  {
   "cell_type": "markdown",
   "metadata": {},
   "source": [
    "#### Performing Subset Selection for Credit data set"
   ]
  },
  {
   "cell_type": "code",
   "execution_count": 4,
   "metadata": {},
   "outputs": [
    {
     "name": "stdout",
     "output_type": "stream",
     "text": [
      "<class 'pandas.core.frame.DataFrame'>\n",
      "RangeIndex: 400 entries, 0 to 399\n",
      "Data columns (total 12 columns):\n",
      "Unnamed: 0    400 non-null int64\n",
      "Income        400 non-null float64\n",
      "Limit         400 non-null int64\n",
      "Rating        400 non-null int64\n",
      "Cards         400 non-null int64\n",
      "Age           400 non-null int64\n",
      "Education     400 non-null int64\n",
      "Gender        400 non-null object\n",
      "Student       400 non-null object\n",
      "Married       400 non-null object\n",
      "Ethnicity     400 non-null object\n",
      "Balance       400 non-null int64\n",
      "dtypes: float64(1), int64(7), object(4)\n",
      "memory usage: 37.6+ KB\n"
     ]
    }
   ],
   "source": [
    "credit = pd.read_csv('./Credit.csv')\n",
    "credit.info()"
   ]
  },
  {
   "cell_type": "code",
   "execution_count": 5,
   "metadata": {},
   "outputs": [
    {
     "name": "stdout",
     "output_type": "stream",
     "text": [
      "d_Gender factors Index([' Male', 'Female'], dtype='object')\n",
      "d_Gender factors Index(['No', 'Yes'], dtype='object')\n",
      "d_Gender factors Index(['Yes', 'No'], dtype='object')\n"
     ]
    }
   ],
   "source": [
    "# Creating dummy variables for categorical data. For variables with two levels we can use pd.factorize()\n",
    "credit['d_Gender']=pd.factorize(credit['Gender'])[0]\n",
    "print ('d_Gender factors',pd.factorize(credit['Gender'])[1])\n",
    "\n",
    "credit['d_Student']=pd.factorize(credit['Student'])[0]\n",
    "print ('d_Gender factors',pd.factorize(credit['Student'])[1])\n",
    "\n",
    "credit['d_Married']=pd.factorize(credit['Married'])[0]\n",
    "print ('d_Gender factors',pd.factorize(credit['Married'])[1])\n",
    "\n",
    "credit = pd.concat([credit,pd.get_dummies(credit['Ethnicity'],prefix='D')],axis=1)"
   ]
  },
  {
   "cell_type": "code",
   "execution_count": 6,
   "metadata": {},
   "outputs": [
    {
     "data": {
      "text/plain": [
       "Index(['Unnamed: 0', 'Income', 'Limit', 'Rating', 'Cards', 'Age', 'Education',\n",
       "       'Gender', 'Student', 'Married', 'Ethnicity', 'Balance', 'd_Gender',\n",
       "       'd_Student', 'd_Married', 'D_African American', 'D_Asian',\n",
       "       'D_Caucasian'],\n",
       "      dtype='object')"
      ]
     },
     "execution_count": 6,
     "metadata": {},
     "output_type": "execute_result"
    }
   ],
   "source": [
    "credit.columns"
   ]
  },
  {
   "cell_type": "code",
   "execution_count": 90,
   "metadata": {},
   "outputs": [],
   "source": [
    "features = ['Income', 'Limit', 'Rating', 'Cards', 'Age', 'Education', 'd_Gender',\n",
    "            'd_Student', 'd_Married', 'D_African American', 'D_Asian']\n",
    "target = ['Balance']"
   ]
  },
  {
   "cell_type": "markdown",
   "metadata": {},
   "source": [
    "### Subset Selection  \n",
    "The best subset model selection approach identifies a subset of the predictors that show to be related to the response. We can then fit a model on the reduced set of variables.\n",
    "\n",
    "#### Best Subset Selection\n",
    "To perform best subset selection, we perform a seperate least square regression for all possible combination of $p$ predictors, resulting in $2^p$ possible models, with the goal of identifying the one that is best.\n",
    "\n",
    "This is usually broken up into three stages.\n",
    "1. Let $M_0$ denote the null model, which contains no predictors. This model simple predicts the sample mean for each observation.\n",
    "2. For $k=1,2,..p$:  \n",
    "    a. Fit all $(^p_k)$ models that contain exactly k predcitors.  \n",
    "    b. Pick best amoung these models, and call it $M_k$. Here the best is defined as having the smallest RSS, or equivalently largest $R^2$\n",
    "3. Select a single best model from among $M_0,...,M_p$ using cross validation prediction error, $C_p (AIC), BIC$ or adjusted $R^2$"
   ]
  },
  {
   "cell_type": "code",
   "execution_count": 158,
   "metadata": {},
   "outputs": [],
   "source": [
    "# Create list of all possible subsets for the predictors\n",
    "p_subsets = list(chain.from_iterable(combinations(features,k) for k in range(1,12)))\n",
    "regr = LinearRegression()\n",
    "\n",
    "# Create empty list to record the training scores of each model\n",
    "sub_model_score = []\n",
    "\n",
    "# For each of the subsets fit a linear regression model and record it's training score\n",
    "for subset in p_subsets:\n",
    "    X = credit[list(subset)]\n",
    "    y = credit[target]\n",
    "    \n",
    "    sub_model = regr.fit(X,y)\n",
    "    sub_model_score.append(sub_model.score(X,y))"
   ]
  },
  {
   "cell_type": "code",
   "execution_count": 160,
   "metadata": {},
   "outputs": [],
   "source": [
    "def best_model(p_subsets, sub_model_score):\n",
    "    # record the best training score for each of the model sizes\n",
    "    sub_scores = {}\n",
    "    #  record the best subset for each of the model sizes\n",
    "    subsets = {}\n",
    "\n",
    "    for i, subset in enumerate(p_subsets):\n",
    "        if sub_scores.get(len(subset),-np.Infinity) < sub_model_score[i]:\n",
    "            sub_scores[len(subset)] =   sub_model_score[i]\n",
    "            subsets[len(subset)] = subset   \n",
    "    return sub_scores, subsets\n",
    "\n",
    "best_sub_scores, best_subset = best_model(p_subsets, sub_model_score)"
   ]
  },
  {
   "cell_type": "markdown",
   "metadata": {},
   "source": [
    "If we look at the best subset scores for each model size we can see the $R^2$ increasing as more predictors are added to the model. However, these indicates the training errors whereas we wish to choose a model that has the lowest test error. Therefore, we use cross validation prediction on the best model for each model size."
   ]
  },
  {
   "cell_type": "code",
   "execution_count": 153,
   "metadata": {},
   "outputs": [
    {
     "data": {
      "text/plain": [
       "[<matplotlib.lines.Line2D at 0x21ddb49bb38>]"
      ]
     },
     "execution_count": 153,
     "metadata": {},
     "output_type": "execute_result"
    },
    {
     "data": {
      "image/png": "[encoded data removed]",
      "text/plain": [
       "<matplotlib.figure.Figure at 0x21dda39ba58>"
      ]
     },
     "metadata": {},
     "output_type": "display_data"
    }
   ],
   "source": [
    "plt.scatter([len(p) for p in p_subsets], sub_model_score, alpha = 0.4, s = 40)\n",
    "plt.xlabel('Number of predictors')\n",
    "plt.ylabel(r'$R^2$')\n",
    "model_size, best_model_score = zip(*sorted(best_sub_scores.items()))\n",
    "plt.plot(model_size,best_model_score,c = 'r')"
   ]
  },
  {
   "cell_type": "markdown",
   "metadata": {},
   "source": [
    "As the number of predictors increase the model fit improves as well, however from three-variable model on, there is little improvement in RSS and $R^2$ as a result of including additional predictors.\n",
    "While the best subset selection in simple and conceptually simple, it has computational limitations. When considering a dataset with $p$ predictors there are $2^p$ possible model with needs to be evaluated to identify the best subset. Consequently, best subset selection becomes computationally infeasible for values of $p$ greater than around 20."
   ]
  },
  {
   "cell_type": "markdown",
   "metadata": {},
   "source": [
    "#### Stepwise Selection\n",
    "We cannot use the best subset selection to datasets where the number of predictors is very large.Also as the search space increase there is a possiblity that we will select models that perform well in the training data but may not perform will with test data.Althernativly, we can use stepwise methods, which explore a far less resticted set of model."
   ]
  },
  {
   "cell_type": "code",
   "execution_count": 154,
   "metadata": {},
   "outputs": [],
   "source": [
    "predictors = features[:]\n",
    "p_subsets = []\n",
    "sub_model_scores =[]\n",
    "Kth_variable = []\n",
    "\n",
    "for i in range(len(features)):\n",
    "    Kplus_score = -np.Infinity\n",
    "    for predictor in predictors:\n",
    "        if predictor not in Kth_variable:\n",
    "            X = credit[Kth_variable+[predictor]]\n",
    "            y = credit[target]\n",
    "            \n",
    "            p_subsets.append(Kth_variable+[predictor])\n",
    "            model = regr.fit(X,y)\n",
    "            \n",
    "            sub_model_scores.append(regr.score(X,y))\n",
    "            if regr.score(X,y) > Kplus_score:\n",
    "                Kplus_score = model.score(X,y)\n",
    "                Kpluse_predictor = predictor\n",
    "    Kth_variable.append(Kpluse_predictor)"
   ]
  },
  {
   "cell_type": "code",
   "execution_count": 161,
   "metadata": {},
   "outputs": [],
   "source": [
    "best_sub_scores, best_subset = best_model(p_subsets, sub_model_score)"
   ]
  },
  {
   "cell_type": "code",
   "execution_count": 162,
   "metadata": {},
   "outputs": [
    {
     "data": {
      "text/plain": [
       "[<matplotlib.lines.Line2D at 0x21ddb530630>]"
      ]
     },
     "execution_count": 162,
     "metadata": {},
     "output_type": "execute_result"
    },
    {
     "data": {
      "image/png": "[encoded data removed]",
      "text/plain": [
       "<matplotlib.figure.Figure at 0x21dda399940>"
      ]
     },
     "metadata": {},
     "output_type": "display_data"
    }
   ],
   "source": [
    "plt.scatter(list(map(len,sub_models)), sub_model_scores, alpha= 0.4, s =40)\n",
    "\n",
    "model_size, best_model_score = zip(*sorted(best_sub_scores.items()))\n",
    "plt.plot(model_size,best_model_score,c = 'r')"
   ]
  },
  {
   "cell_type": "code",
   "execution_count": 143,
   "metadata": {},
   "outputs": [
    {
     "data": {
      "text/plain": [
       "[1,\n",
       " 1,\n",
       " 1,\n",
       " 1,\n",
       " 1,\n",
       " 1,\n",
       " 1,\n",
       " 1,\n",
       " 1,\n",
       " 1,\n",
       " 1,\n",
       " 2,\n",
       " 2,\n",
       " 2,\n",
       " 2,\n",
       " 2,\n",
       " 2,\n",
       " 2,\n",
       " 2,\n",
       " 2,\n",
       " 2,\n",
       " 3,\n",
       " 3,\n",
       " 3,\n",
       " 3,\n",
       " 3,\n",
       " 3,\n",
       " 3,\n",
       " 3,\n",
       " 3,\n",
       " 4,\n",
       " 4,\n",
       " 4,\n",
       " 4,\n",
       " 4,\n",
       " 4,\n",
       " 4,\n",
       " 4,\n",
       " 5,\n",
       " 5,\n",
       " 5,\n",
       " 5,\n",
       " 5,\n",
       " 5,\n",
       " 5,\n",
       " 6,\n",
       " 6,\n",
       " 6,\n",
       " 6,\n",
       " 6,\n",
       " 6,\n",
       " 7,\n",
       " 7,\n",
       " 7,\n",
       " 7,\n",
       " 7,\n",
       " 8,\n",
       " 8,\n",
       " 8,\n",
       " 8,\n",
       " 9,\n",
       " 9,\n",
       " 9,\n",
       " 10,\n",
       " 10,\n",
       " 11]"
      ]
     },
     "execution_count": 143,
     "metadata": {},
     "output_type": "execute_result"
    }
   ],
   "source": [
    "list(map(len,sub_models))"
   ]
  },
  {
   "cell_type": "code",
   "execution_count": 120,
   "metadata": {},
   "outputs": [
    {
     "name": "stdout",
     "output_type": "stream",
     "text": [
      "    Income  Limit  Rating  Cards   Income\n",
      "0   14.891   3606     283      2   14.891\n",
      "1  106.025   6645     483      3  106.025\n",
      "2  104.593   7075     514      4  104.593\n",
      "3  148.924   9504     681      3  148.924\n",
      "4   55.882   4897     357      2   55.882\n",
      "    Income  Limit  Rating  Cards  Limit\n",
      "0   14.891   3606     283      2   3606\n",
      "1  106.025   6645     483      3   6645\n",
      "2  104.593   7075     514      4   7075\n",
      "3  148.924   9504     681      3   9504\n",
      "4   55.882   4897     357      2   4897\n",
      "    Income  Limit  Rating  Cards  Rating\n",
      "0   14.891   3606     283      2     283\n",
      "1  106.025   6645     483      3     483\n",
      "2  104.593   7075     514      4     514\n",
      "3  148.924   9504     681      3     681\n",
      "4   55.882   4897     357      2     357\n",
      "    Income  Limit  Rating  Cards  Cards\n",
      "0   14.891   3606     283      2      2\n",
      "1  106.025   6645     483      3      3\n",
      "2  104.593   7075     514      4      4\n",
      "3  148.924   9504     681      3      3\n",
      "4   55.882   4897     357      2      2\n",
      "    Income  Limit  Rating  Cards  Age\n",
      "0   14.891   3606     283      2   34\n",
      "1  106.025   6645     483      3   82\n",
      "2  104.593   7075     514      4   71\n",
      "3  148.924   9504     681      3   36\n",
      "4   55.882   4897     357      2   68\n",
      "    Income  Limit  Rating  Cards  Education\n",
      "0   14.891   3606     283      2         11\n",
      "1  106.025   6645     483      3         15\n",
      "2  104.593   7075     514      4         11\n",
      "3  148.924   9504     681      3         11\n",
      "4   55.882   4897     357      2         16\n",
      "    Income  Limit  Rating  Cards  d_Gender\n",
      "0   14.891   3606     283      2         0\n",
      "1  106.025   6645     483      3         1\n",
      "2  104.593   7075     514      4         0\n",
      "3  148.924   9504     681      3         1\n",
      "4   55.882   4897     357      2         0\n",
      "    Income  Limit  Rating  Cards  d_Student\n",
      "0   14.891   3606     283      2          0\n",
      "1  106.025   6645     483      3          1\n",
      "2  104.593   7075     514      4          0\n",
      "3  148.924   9504     681      3          0\n",
      "4   55.882   4897     357      2          0\n",
      "    Income  Limit  Rating  Cards  d_Married\n",
      "0   14.891   3606     283      2          0\n",
      "1  106.025   6645     483      3          0\n",
      "2  104.593   7075     514      4          1\n",
      "3  148.924   9504     681      3          1\n",
      "4   55.882   4897     357      2          0\n",
      "    Income  Limit  Rating  Cards  D_African American\n",
      "0   14.891   3606     283      2                 0.0\n",
      "1  106.025   6645     483      3                 0.0\n",
      "2  104.593   7075     514      4                 0.0\n",
      "3  148.924   9504     681      3                 0.0\n",
      "4   55.882   4897     357      2                 0.0\n",
      "    Income  Limit  Rating  Cards  D_Asian\n",
      "0   14.891   3606     283      2      0.0\n",
      "1  106.025   6645     483      3      1.0\n",
      "2  104.593   7075     514      4      1.0\n",
      "3  148.924   9504     681      3      1.0\n",
      "4   55.882   4897     357      2      0.0\n"
     ]
    }
   ],
   "source": [
    "for predictor in features:\n",
    "    print (credit[K+[predictor]].head())"
   ]
  },
  {
   "cell_type": "code",
   "execution_count": 103,
   "metadata": {},
   "outputs": [],
   "source": [
    "K = ['Income', 'Limit', 'Rating', 'Cards']"
   ]
  },
  {
   "cell_type": "code",
   "execution_count": null,
   "metadata": {},
   "outputs": [],
   "source": [
    "x"
   ]
  },
  {
   "cell_type": "code",
   "execution_count": null,
   "metadata": {},
   "outputs": [],
   "source": [
    "import statsmodels.api as sm"
   ]
  },
  {
   "cell_type": "code",
   "execution_count": null,
   "metadata": {},
   "outputs": [],
   "source": [
    "model=sm.OLS(credit['Balance'],credit[features],hasconst=False).fit()"
   ]
  },
  {
   "cell_type": "code",
   "execution_count": null,
   "metadata": {},
   "outputs": [],
   "source": [
    "model.summary()"
   ]
  },
  {
   "cell_type": "code",
   "execution_count": null,
   "metadata": {},
   "outputs": [],
   "source": [
    "model.summary()"
   ]
  },
  {
   "cell_type": "code",
   "execution_count": null,
   "metadata": {},
   "outputs": [],
   "source": [
    "regr = LinearRegression()"
   ]
  },
  {
   "cell_type": "code",
   "execution_count": null,
   "metadata": {},
   "outputs": [],
   "source": [
    "X = credit[['Limit', 'Rating', 'Cards', 'Age']]\n",
    "y = credit[target]"
   ]
  },
  {
   "cell_type": "code",
   "execution_count": null,
   "metadata": {},
   "outputs": [],
   "source": [
    "model = regr.fit(X,y)"
   ]
  },
  {
   "cell_type": "code",
   "execution_count": null,
   "metadata": {},
   "outputs": [],
   "source": [
    "model.score(X,y)"
   ]
  },
  {
   "cell_type": "code",
   "execution_count": null,
   "metadata": {},
   "outputs": [],
   "source": []
  }
 ],
 "metadata": {
  "kernelspec": {
   "display_name": "Python [conda env:Anaconda3]",
   "language": "python",
   "name": "conda-env-Anaconda3-py"
  },
  "language_info": {
   "codemirror_mode": {
    "name": "ipython",
    "version": 3
   },
   "file_extension": ".py",
   "mimetype": "text/x-python",
   "name": "python",
   "nbconvert_exporter": "python",
   "pygments_lexer": "ipython3",
   "version": "3.5.2"
  }
 },
 "nbformat": 4,
 "nbformat_minor": 2
}
