{
 "cells": [
  {
   "cell_type": "markdown",
   "metadata": {},
   "source": [
    "Typically, the standard linear model $Y=\\beta_0+\\beta_1X_1+...+\\beta_pX_p+\\epsilon$ is fitted using the least squares method. However, there are alternative fitting procedures that can yield better prediction accuracy and model interpretability.\n",
    "\n",
    "* **Prediction Accuracy:** If the true relationship between the response and the predictor is approximately linear, the least square estimates will have low bias. If the number of predictors ($p$) is much less than the number of observations ($n$) then the least square estimates tend to also have low variance, and will perform well on test observations. However, if $n$ is not much larger than p, then there can be a lot of variability in the least square fit.\n",
    "* **Model Interpretability:** Many of the variables used in a multiple regression model may not be associated with the response. By removing these variables we can obtain a model that is easily interpreted. \n",
    "\n",
    "### Subset Selection  \n",
    "Subset selection involves identifying a subset of $p$ predictors that we believe to be related to the response. When fit a model using the reduced subset."
   ]
  },
  {
   "cell_type": "code",
   "execution_count": 75,
   "metadata": {},
   "outputs": [],
   "source": [
    "import numpy as np\n",
    "import pandas as pd\n",
    "\n",
    "from sklearn.linear_model import LinearRegression\n",
    "from sklearn.model_selection import KFold, cross_val_score, train_test_split\n",
    "from sklearn.metrics import mean_squared_error, r2_score, precision_score\n",
    "\n",
    "import statsmodels.api as sm\n",
    "\n",
    "from itertools import combinations,chain"
   ]
  },
  {
   "cell_type": "code",
   "execution_count": 2,
   "metadata": {},
   "outputs": [],
   "source": [
    "import matplotlib.pyplot as plt\n",
    "import seaborn as sns\n",
    "\n",
    "plt.style.use('ggplot')\n",
    "\n",
    "%matplotlib inline"
   ]
  },
  {
   "cell_type": "markdown",
   "metadata": {},
   "source": [
    "#### Best Subset Selection\n",
    "To perform best subset selection, we perform a seperate least square regression for each possible combination of $p$ predictors, resulting in $2^p$ possible models, with the goal of identifying the one that is best.\n",
    "This is usually broken up int three stages.\n",
    "1. Let $M_0$ denote the null model, which contains no predictors. This model simple predicts the sample mean for each observation.\n",
    "2. For $k=1,2,..p$:  \n",
    "a. Fit all $(^p_k)$ models that contain exactly k predcitors.  \n",
    "b. Pick best amoung these models, and call it $M_k$. Here the best is defined as having the smallest RSS, or equivalently largest $R^2$\n",
    "3. Select a single best model from among $M_0,...,M_p$ using cross validation prediction error, $C_p (AIC), BIC$ or adjusted $R^2$"
   ]
  },
  {
   "cell_type": "markdown",
   "metadata": {},
   "source": [
    "#### Performing Best Subset Selection for Credit data set"
   ]
  },
  {
   "cell_type": "code",
   "execution_count": 3,
   "metadata": {},
   "outputs": [
    {
     "name": "stdout",
     "output_type": "stream",
     "text": [
      "<class 'pandas.core.frame.DataFrame'>\n",
      "RangeIndex: 400 entries, 0 to 399\n",
      "Data columns (total 12 columns):\n",
      "Unnamed: 0    400 non-null int64\n",
      "Income        400 non-null float64\n",
      "Limit         400 non-null int64\n",
      "Rating        400 non-null int64\n",
      "Cards         400 non-null int64\n",
      "Age           400 non-null int64\n",
      "Education     400 non-null int64\n",
      "Gender        400 non-null object\n",
      "Student       400 non-null object\n",
      "Married       400 non-null object\n",
      "Ethnicity     400 non-null object\n",
      "Balance       400 non-null int64\n",
      "dtypes: float64(1), int64(7), object(4)\n",
      "memory usage: 31.3+ KB\n"
     ]
    }
   ],
   "source": [
    "credit = pd.read_csv('./Credit.csv')\n",
    "credit.info()"
   ]
  },
  {
   "cell_type": "code",
   "execution_count": 4,
   "metadata": {},
   "outputs": [
    {
     "data": {
      "text/html": [
       "<div>\n",
       "<style scoped>\n",
       "    .dataframe tbody tr th:only-of-type {\n",
       "        vertical-align: middle;\n",
       "    }\n",
       "\n",
       "    .dataframe tbody tr th {\n",
       "        vertical-align: top;\n",
       "    }\n",
       "\n",
       "    .dataframe thead th {\n",
       "        text-align: right;\n",
       "    }\n",
       "</style>\n",
       "<table border=\"1\" class=\"dataframe\">\n",
       "  <thead>\n",
       "    <tr style=\"text-align: right;\">\n",
       "      <th></th>\n",
       "      <th>Income</th>\n",
       "      <th>Limit</th>\n",
       "      <th>Rating</th>\n",
       "      <th>Cards</th>\n",
       "      <th>Age</th>\n",
       "      <th>Education</th>\n",
       "      <th>Gender</th>\n",
       "      <th>Student</th>\n",
       "      <th>Married</th>\n",
       "      <th>Ethnicity</th>\n",
       "      <th>Balance</th>\n",
       "    </tr>\n",
       "  </thead>\n",
       "  <tbody>\n",
       "    <tr>\n",
       "      <th>0</th>\n",
       "      <td>14.891</td>\n",
       "      <td>3606</td>\n",
       "      <td>283</td>\n",
       "      <td>2</td>\n",
       "      <td>34</td>\n",
       "      <td>11</td>\n",
       "      <td>Male</td>\n",
       "      <td>No</td>\n",
       "      <td>Yes</td>\n",
       "      <td>Caucasian</td>\n",
       "      <td>333</td>\n",
       "    </tr>\n",
       "    <tr>\n",
       "      <th>1</th>\n",
       "      <td>106.025</td>\n",
       "      <td>6645</td>\n",
       "      <td>483</td>\n",
       "      <td>3</td>\n",
       "      <td>82</td>\n",
       "      <td>15</td>\n",
       "      <td>Female</td>\n",
       "      <td>Yes</td>\n",
       "      <td>Yes</td>\n",
       "      <td>Asian</td>\n",
       "      <td>903</td>\n",
       "    </tr>\n",
       "    <tr>\n",
       "      <th>2</th>\n",
       "      <td>104.593</td>\n",
       "      <td>7075</td>\n",
       "      <td>514</td>\n",
       "      <td>4</td>\n",
       "      <td>71</td>\n",
       "      <td>11</td>\n",
       "      <td>Male</td>\n",
       "      <td>No</td>\n",
       "      <td>No</td>\n",
       "      <td>Asian</td>\n",
       "      <td>580</td>\n",
       "    </tr>\n",
       "    <tr>\n",
       "      <th>3</th>\n",
       "      <td>148.924</td>\n",
       "      <td>9504</td>\n",
       "      <td>681</td>\n",
       "      <td>3</td>\n",
       "      <td>36</td>\n",
       "      <td>11</td>\n",
       "      <td>Female</td>\n",
       "      <td>No</td>\n",
       "      <td>No</td>\n",
       "      <td>Asian</td>\n",
       "      <td>964</td>\n",
       "    </tr>\n",
       "    <tr>\n",
       "      <th>4</th>\n",
       "      <td>55.882</td>\n",
       "      <td>4897</td>\n",
       "      <td>357</td>\n",
       "      <td>2</td>\n",
       "      <td>68</td>\n",
       "      <td>16</td>\n",
       "      <td>Male</td>\n",
       "      <td>No</td>\n",
       "      <td>Yes</td>\n",
       "      <td>Caucasian</td>\n",
       "      <td>331</td>\n",
       "    </tr>\n",
       "  </tbody>\n",
       "</table>\n",
       "</div>"
      ],
      "text/plain": [
       "    Income  Limit  Rating  Cards  Age  Education  Gender Student Married  \\\n",
       "0   14.891   3606     283      2   34         11    Male      No     Yes   \n",
       "1  106.025   6645     483      3   82         15  Female     Yes     Yes   \n",
       "2  104.593   7075     514      4   71         11    Male      No      No   \n",
       "3  148.924   9504     681      3   36         11  Female      No      No   \n",
       "4   55.882   4897     357      2   68         16    Male      No     Yes   \n",
       "\n",
       "   Ethnicity  Balance  \n",
       "0  Caucasian      333  \n",
       "1      Asian      903  \n",
       "2      Asian      580  \n",
       "3      Asian      964  \n",
       "4  Caucasian      331  "
      ]
     },
     "execution_count": 4,
     "metadata": {},
     "output_type": "execute_result"
    }
   ],
   "source": [
    "credit.drop('Unnamed: 0',axis=1,inplace=True)\n",
    "credit.head()"
   ]
  },
  {
   "cell_type": "code",
   "execution_count": 5,
   "metadata": {},
   "outputs": [
    {
     "name": "stdout",
     "output_type": "stream",
     "text": [
      "d_Gender factors Index([' Male', 'Female'], dtype='object')\n",
      "d_Gender factors Index(['No', 'Yes'], dtype='object')\n",
      "d_Gender factors Index(['Yes', 'No'], dtype='object')\n"
     ]
    }
   ],
   "source": [
    "# Creating dummy variables for categorical data. For variables with two levels we can use pd.factorize()\n",
    "credit['d_Gender']=pd.factorize(credit['Gender'])[0]\n",
    "print ('d_Gender factors',pd.factorize(credit['Gender'])[1])\n",
    "\n",
    "credit['d_Student']=pd.factorize(credit['Student'])[0]\n",
    "print ('d_Gender factors',pd.factorize(credit['Student'])[1])\n",
    "\n",
    "credit['d_Married']=pd.factorize(credit['Married'])[0]\n",
    "print ('d_Gender factors',pd.factorize(credit['Married'])[1])\n",
    "\n",
    "credit = pd.concat([credit,pd.get_dummies(credit['Ethnicity'],prefix='D')],axis=1)"
   ]
  },
  {
   "cell_type": "code",
   "execution_count": 6,
   "metadata": {},
   "outputs": [
    {
     "data": {
      "text/plain": [
       "Index(['Income', 'Limit', 'Rating', 'Cards', 'Age', 'Education', 'Gender',\n",
       "       'Student', 'Married', 'Ethnicity', 'Balance', 'd_Gender', 'd_Student',\n",
       "       'd_Married', 'D_African American', 'D_Asian', 'D_Caucasian'],\n",
       "      dtype='object')"
      ]
     },
     "execution_count": 6,
     "metadata": {},
     "output_type": "execute_result"
    }
   ],
   "source": [
    "credit.columns"
   ]
  },
  {
   "cell_type": "code",
   "execution_count": 7,
   "metadata": {},
   "outputs": [],
   "source": [
    "## Remove categorical columns \n",
    "credit.drop(['Gender','Student','Married','Ethnicity','D_Caucasian'],inplace = True, axis=1)\n",
    "\n",
    "features = ['Income', 'Limit', 'Rating', 'Cards', 'Age', 'Education', 'd_Gender',\n",
    "            'd_Student', 'd_Married', 'D_African American', 'D_Asian']\n",
    "target = 'Balance'"
   ]
  },
  {
   "cell_type": "code",
   "execution_count": 8,
   "metadata": {},
   "outputs": [],
   "source": [
    "# For each of the models record the test score\n",
    "def create_models(df, features, target, scoring = 'RSS'):\n",
    "    models = []\n",
    "    for model_size in range(1,len(features)+1):\n",
    "    # Create subsets with n features each\n",
    "        for i,subset in enumerate(combinations(features,model_size)):\n",
    "            X = df[list(subset)]\n",
    "            y = df[target]\n",
    "        # Calcuate CV score for each subset\n",
    "            model = sm.OLS(y, sm.add_constant(df[list(subset)])).fit()\n",
    "        # Store the subset score and the number of predictors used\n",
    "            models.append({'Model Size': model_size, 'Model':model, 'Subset':subset})\n",
    "    \n",
    "    return pd.DataFrame(models)"
   ]
  },
  {
   "cell_type": "code",
   "execution_count": 31,
   "metadata": {},
   "outputs": [],
   "source": [
    "## Create dataframe with all possible subset models\n",
    "subset_models = create_models(credit, features, target)"
   ]
  },
  {
   "cell_type": "code",
   "execution_count": 10,
   "metadata": {},
   "outputs": [
    {
     "data": {
      "text/html": [
       "<div>\n",
       "<style scoped>\n",
       "    .dataframe tbody tr th:only-of-type {\n",
       "        vertical-align: middle;\n",
       "    }\n",
       "\n",
       "    .dataframe tbody tr th {\n",
       "        vertical-align: top;\n",
       "    }\n",
       "\n",
       "    .dataframe thead th {\n",
       "        text-align: right;\n",
       "    }\n",
       "</style>\n",
       "<table border=\"1\" class=\"dataframe\">\n",
       "  <thead>\n",
       "    <tr style=\"text-align: right;\">\n",
       "      <th></th>\n",
       "      <th>Model</th>\n",
       "      <th>Model Size</th>\n",
       "      <th>Subset</th>\n",
       "    </tr>\n",
       "  </thead>\n",
       "  <tbody>\n",
       "    <tr>\n",
       "      <th>0</th>\n",
       "      <td>&lt;statsmodels.regression.linear_model.Regressio...</td>\n",
       "      <td>1</td>\n",
       "      <td>(Income,)</td>\n",
       "    </tr>\n",
       "    <tr>\n",
       "      <th>1</th>\n",
       "      <td>&lt;statsmodels.regression.linear_model.Regressio...</td>\n",
       "      <td>1</td>\n",
       "      <td>(Limit,)</td>\n",
       "    </tr>\n",
       "    <tr>\n",
       "      <th>2</th>\n",
       "      <td>&lt;statsmodels.regression.linear_model.Regressio...</td>\n",
       "      <td>1</td>\n",
       "      <td>(Rating,)</td>\n",
       "    </tr>\n",
       "    <tr>\n",
       "      <th>3</th>\n",
       "      <td>&lt;statsmodels.regression.linear_model.Regressio...</td>\n",
       "      <td>1</td>\n",
       "      <td>(Cards,)</td>\n",
       "    </tr>\n",
       "    <tr>\n",
       "      <th>4</th>\n",
       "      <td>&lt;statsmodels.regression.linear_model.Regressio...</td>\n",
       "      <td>1</td>\n",
       "      <td>(Age,)</td>\n",
       "    </tr>\n",
       "  </tbody>\n",
       "</table>\n",
       "</div>"
      ],
      "text/plain": [
       "                                               Model  Model Size     Subset\n",
       "0  <statsmodels.regression.linear_model.Regressio...           1  (Income,)\n",
       "1  <statsmodels.regression.linear_model.Regressio...           1   (Limit,)\n",
       "2  <statsmodels.regression.linear_model.Regressio...           1  (Rating,)\n",
       "3  <statsmodels.regression.linear_model.Regressio...           1   (Cards,)\n",
       "4  <statsmodels.regression.linear_model.Regressio...           1     (Age,)"
      ]
     },
     "execution_count": 10,
     "metadata": {},
     "output_type": "execute_result"
    }
   ],
   "source": [
    "subset_models.head()"
   ]
  },
  {
   "cell_type": "code",
   "execution_count": 32,
   "metadata": {},
   "outputs": [],
   "source": [
    "# For each model calculate the RSS and add to the DataFrame\n",
    "subset_models['RSS'] = subset_models.apply(lambda row: sum(row[0].resid**2),axis =1)\n",
    "subset_models['R2'] = subset_models.apply(lambda row: row[0].rsquared,axis =1)"
   ]
  },
  {
   "cell_type": "code",
   "execution_count": 33,
   "metadata": {},
   "outputs": [
    {
     "data": {
      "text/html": [
       "<div>\n",
       "<style scoped>\n",
       "    .dataframe tbody tr th:only-of-type {\n",
       "        vertical-align: middle;\n",
       "    }\n",
       "\n",
       "    .dataframe tbody tr th {\n",
       "        vertical-align: top;\n",
       "    }\n",
       "\n",
       "    .dataframe thead th {\n",
       "        text-align: right;\n",
       "    }\n",
       "</style>\n",
       "<table border=\"1\" class=\"dataframe\">\n",
       "  <thead>\n",
       "    <tr style=\"text-align: right;\">\n",
       "      <th></th>\n",
       "      <th>Model</th>\n",
       "      <th>Model Size</th>\n",
       "      <th>Subset</th>\n",
       "      <th>RSS</th>\n",
       "      <th>R2</th>\n",
       "    </tr>\n",
       "  </thead>\n",
       "  <tbody>\n",
       "    <tr>\n",
       "      <th>2035</th>\n",
       "      <td>&lt;statsmodels.regression.linear_model.Regressio...</td>\n",
       "      <td>10</td>\n",
       "      <td>(Income, Limit, Rating, Cards, Age, Education,...</td>\n",
       "      <td>3.789709e+06</td>\n",
       "      <td>0.955066</td>\n",
       "    </tr>\n",
       "    <tr>\n",
       "      <th>2036</th>\n",
       "      <td>&lt;statsmodels.regression.linear_model.Regressio...</td>\n",
       "      <td>10</td>\n",
       "      <td>(Income, Limit, Rating, Cards, Age, Education,...</td>\n",
       "      <td>3.793418e+06</td>\n",
       "      <td>0.955022</td>\n",
       "    </tr>\n",
       "    <tr>\n",
       "      <th>2037</th>\n",
       "      <td>&lt;statsmodels.regression.linear_model.Regressio...</td>\n",
       "      <td>10</td>\n",
       "      <td>(Income, Limit, Rating, Cards, Age, Education,...</td>\n",
       "      <td>3.793349e+06</td>\n",
       "      <td>0.955023</td>\n",
       "    </tr>\n",
       "    <tr>\n",
       "      <th>2038</th>\n",
       "      <td>&lt;statsmodels.regression.linear_model.Regressio...</td>\n",
       "      <td>10</td>\n",
       "      <td>(Income, Limit, Rating, Cards, Age, Education,...</td>\n",
       "      <td>1.011274e+07</td>\n",
       "      <td>0.880095</td>\n",
       "    </tr>\n",
       "    <tr>\n",
       "      <th>2039</th>\n",
       "      <td>&lt;statsmodels.regression.linear_model.Regressio...</td>\n",
       "      <td>10</td>\n",
       "      <td>(Income, Limit, Rating, Cards, Age, Education,...</td>\n",
       "      <td>3.798000e+06</td>\n",
       "      <td>0.954968</td>\n",
       "    </tr>\n",
       "    <tr>\n",
       "      <th>2040</th>\n",
       "      <td>&lt;statsmodels.regression.linear_model.Regressio...</td>\n",
       "      <td>10</td>\n",
       "      <td>(Income, Limit, Rating, Cards, Age, d_Gender, ...</td>\n",
       "      <td>3.791345e+06</td>\n",
       "      <td>0.955047</td>\n",
       "    </tr>\n",
       "    <tr>\n",
       "      <th>2041</th>\n",
       "      <td>&lt;statsmodels.regression.linear_model.Regressio...</td>\n",
       "      <td>10</td>\n",
       "      <td>(Income, Limit, Rating, Cards, Education, d_Ge...</td>\n",
       "      <td>3.829288e+06</td>\n",
       "      <td>0.954597</td>\n",
       "    </tr>\n",
       "    <tr>\n",
       "      <th>2042</th>\n",
       "      <td>&lt;statsmodels.regression.linear_model.Regressio...</td>\n",
       "      <td>10</td>\n",
       "      <td>(Income, Limit, Rating, Age, Education, d_Gend...</td>\n",
       "      <td>3.949432e+06</td>\n",
       "      <td>0.953172</td>\n",
       "    </tr>\n",
       "    <tr>\n",
       "      <th>2043</th>\n",
       "      <td>&lt;statsmodels.regression.linear_model.Regressio...</td>\n",
       "      <td>10</td>\n",
       "      <td>(Income, Limit, Cards, Age, Education, d_Gende...</td>\n",
       "      <td>3.839044e+06</td>\n",
       "      <td>0.954481</td>\n",
       "    </tr>\n",
       "    <tr>\n",
       "      <th>2044</th>\n",
       "      <td>&lt;statsmodels.regression.linear_model.Regressio...</td>\n",
       "      <td>10</td>\n",
       "      <td>(Income, Rating, Cards, Age, Education, d_Gend...</td>\n",
       "      <td>4.117780e+06</td>\n",
       "      <td>0.951176</td>\n",
       "    </tr>\n",
       "    <tr>\n",
       "      <th>2045</th>\n",
       "      <td>&lt;statsmodels.regression.linear_model.Regressio...</td>\n",
       "      <td>10</td>\n",
       "      <td>(Limit, Rating, Cards, Age, Education, d_Gende...</td>\n",
       "      <td>1.461789e+07</td>\n",
       "      <td>0.826679</td>\n",
       "    </tr>\n",
       "  </tbody>\n",
       "</table>\n",
       "</div>"
      ],
      "text/plain": [
       "                                                  Model  Model Size  \\\n",
       "2035  <statsmodels.regression.linear_model.Regressio...          10   \n",
       "2036  <statsmodels.regression.linear_model.Regressio...          10   \n",
       "2037  <statsmodels.regression.linear_model.Regressio...          10   \n",
       "2038  <statsmodels.regression.linear_model.Regressio...          10   \n",
       "2039  <statsmodels.regression.linear_model.Regressio...          10   \n",
       "2040  <statsmodels.regression.linear_model.Regressio...          10   \n",
       "2041  <statsmodels.regression.linear_model.Regressio...          10   \n",
       "2042  <statsmodels.regression.linear_model.Regressio...          10   \n",
       "2043  <statsmodels.regression.linear_model.Regressio...          10   \n",
       "2044  <statsmodels.regression.linear_model.Regressio...          10   \n",
       "2045  <statsmodels.regression.linear_model.Regressio...          10   \n",
       "\n",
       "                                                 Subset           RSS  \\\n",
       "2035  (Income, Limit, Rating, Cards, Age, Education,...  3.789709e+06   \n",
       "2036  (Income, Limit, Rating, Cards, Age, Education,...  3.793418e+06   \n",
       "2037  (Income, Limit, Rating, Cards, Age, Education,...  3.793349e+06   \n",
       "2038  (Income, Limit, Rating, Cards, Age, Education,...  1.011274e+07   \n",
       "2039  (Income, Limit, Rating, Cards, Age, Education,...  3.798000e+06   \n",
       "2040  (Income, Limit, Rating, Cards, Age, d_Gender, ...  3.791345e+06   \n",
       "2041  (Income, Limit, Rating, Cards, Education, d_Ge...  3.829288e+06   \n",
       "2042  (Income, Limit, Rating, Age, Education, d_Gend...  3.949432e+06   \n",
       "2043  (Income, Limit, Cards, Age, Education, d_Gende...  3.839044e+06   \n",
       "2044  (Income, Rating, Cards, Age, Education, d_Gend...  4.117780e+06   \n",
       "2045  (Limit, Rating, Cards, Age, Education, d_Gende...  1.461789e+07   \n",
       "\n",
       "            R2  \n",
       "2035  0.955066  \n",
       "2036  0.955022  \n",
       "2037  0.955023  \n",
       "2038  0.880095  \n",
       "2039  0.954968  \n",
       "2040  0.955047  \n",
       "2041  0.954597  \n",
       "2042  0.953172  \n",
       "2043  0.954481  \n",
       "2044  0.951176  \n",
       "2045  0.826679  "
      ]
     },
     "execution_count": 33,
     "metadata": {},
     "output_type": "execute_result"
    }
   ],
   "source": [
    "## We can view all models for a given model size using the following method\n",
    "subset_models[subset_models['Model Size']==10]"
   ]
  },
  {
   "cell_type": "code",
   "execution_count": 47,
   "metadata": {},
   "outputs": [],
   "source": [
    "# For each model size identify the lowest RSS value\n",
    "Mk_RSS = pd.pivot_table(subset_models,columns='Model Size', values='RSS' ,aggfunc=min).values\n",
    "# The highest R2 score\n",
    "Mk_R2 = pd.pivot_table(subset_models,columns='Model Size', values='R2' ,aggfunc=max).values"
   ]
  },
  {
   "cell_type": "code",
   "execution_count": 44,
   "metadata": {},
   "outputs": [
    {
     "data": {
      "text/plain": [
       "Text(0,0.5,'$R^2$ Score')"
      ]
     },
     "execution_count": 44,
     "metadata": {},
     "output_type": "execute_result"
    },
    {
     "data": {
      "image/png": "[encoded data removed]",
      "text/plain": [
       "<matplotlib.figure.Figure at 0x1defe550>"
      ]
     },
     "metadata": {},
     "output_type": "display_data"
    }
   ],
   "source": [
    "fig, (ax1, ax2) = plt.subplots(1,2, figsize = (10,5) )\n",
    "\n",
    "# For each model plot the RSS score against the model size\n",
    "ax1.scatter(x=subset_models['Model Size'], y=subset_models['RSS'], s = 50, alpha=0.4 )\n",
    "# For each model size plot the lowest RSS score\n",
    "ax1.plot(range(1,12),Mk_RSS[0], c = 'orange')\n",
    "ax1.set_xlabel('No of Predictors')\n",
    "ax1.set_ylabel('Residual Sum of Squares')\n",
    "\n",
    "# For each model plot the R2 score against the model size\n",
    "ax2.scatter(x=subset_models['Model Size'], y=subset_models['R2'], s = 50, alpha=0.4 )\n",
    "# For each model size plot the lowest RSS score\n",
    "ax2.plot(range(1,12),Mk_R2[0], c = 'orange')\n",
    "ax2.set_xlabel('No of Predictors')\n",
    "ax2.set_ylabel(r'$R^2$ Score')"
   ]
  },
  {
   "cell_type": "code",
   "execution_count": 50,
   "metadata": {},
   "outputs": [],
   "source": [
    "### Identify row index for best subsets based on the RSS value\n",
    "index_best_subset = pd.pivot_table(subset_models,columns='Model Size', values='R2' ,aggfunc=pd.Series.idxmax).values\n",
    "\n",
    "###best_subsets[0].astype(int)\n",
    "best_subset = subset_models.iloc[index_best_subset[0].astype(int)].copy()"
   ]
  },
  {
   "cell_type": "markdown",
   "metadata": {},
   "source": [
    "After selecting the best model from each model size($M_0,...,M_p$), we can choose a single best using the cross validated prediction error, $C_p$, AIC, BIC or adjusted $R^2$.\n",
    "\n",
    "As the number of predictors increase the model fit improves as well, however from three-variable model on, there is little improvement in the $RSS$ and $R^2$ as a result of including additional predictors. \n",
    "While the best subset selection in simple and conceptually simple, it has computational limitations. When considering a dataset with $p$ predictors there are $2^p$ possible model with needs to be evaluated to identify the best subset. Consequently, best subset selection becomes computationally infeasible for values of $p$ greater than around 20."
   ]
  },
  {
   "cell_type": "markdown",
   "metadata": {},
   "source": [
    "Additionally, larger the search space, there is a possibility that we will find models that are good on the training data, even though they might not be good at predicting on future data. A large search space can lead to overfitting and high variance of the coefficient estimates.\n",
    "\n",
    "#### Forward Stepwise Selection\n",
    "Forward stepwise selection begins with a model with no predictors and then adds predictors to the model one at a time, untill all the predictors are in the model. On each step the variable that gives the greatest additional improvement to the fit is added to the model.\n",
    "**Forward stepwise selection**\n",
    "1. Start with _null model_ $M_0$ which does not contain any predictors.\n",
    "2. For $k=0,...,p-1$:  \n",
    "    a. Consider all $p-k$ models that adds one additional predictor to the model $M_k$  \n",
    "    b. Choose the best among these $p-k$ models using $RSS$ or $R^2$, and choose this model as $M_{k+1}$  \n",
    "3. Select the single best model among $M_0,...,M_p$, using cross validated prediction error, $C_p (AIC), BIC$, or adjusted $R^2$"
   ]
  },
  {
   "cell_type": "code",
   "execution_count": 16,
   "metadata": {},
   "outputs": [],
   "source": [
    "features = ['Income', 'Limit', 'Rating', 'Cards', 'Age', 'Education', 'd_Gender', 'd_Student', 'd_Married', 'D_African American', 'D_Asian']\n",
    "target = 'Balance'"
   ]
  },
  {
   "cell_type": "code",
   "execution_count": 17,
   "metadata": {},
   "outputs": [],
   "source": [
    "## Forward Selection\n",
    "\n",
    "def forward_selection(df, features, target):\n",
    "    models = []\n",
    "    predictors = []\n",
    "    null_RSS = sum((df[target] -df[target].mean())**2)\n",
    "    base_RSS = null_RSS\n",
    "\n",
    "    for i in range(len(features)):\n",
    "        remaing = [feature for feature in features if feature not in predictors]\n",
    "        for feature in remaing:\n",
    "            X = df[predictors+[feature]]\n",
    "            y = df['Balance']\n",
    "            model = sm.OLS(y,sm.add_constant(X)).fit()\n",
    "            RSS = (model.resid**2).sum()\n",
    "            \n",
    "            models.append({'Model Size':X.shape[1],'Model':model, 'Features':predictors+[feature], 'RSS':RSS})\n",
    "            \n",
    "            if RSS < base_RSS:\n",
    "                base_RSS = RSS\n",
    "                best_feature = feature\n",
    "        predictors.append(best_feature)\n",
    "        \n",
    "    return pd.DataFrame(models)"
   ]
  },
  {
   "cell_type": "code",
   "execution_count": 18,
   "metadata": {},
   "outputs": [],
   "source": [
    "forward_selection_models = forward_selection(credit, features, target)"
   ]
  },
  {
   "cell_type": "code",
   "execution_count": 19,
   "metadata": {},
   "outputs": [
    {
     "data": {
      "text/html": [
       "<div>\n",
       "<style scoped>\n",
       "    .dataframe tbody tr th:only-of-type {\n",
       "        vertical-align: middle;\n",
       "    }\n",
       "\n",
       "    .dataframe tbody tr th {\n",
       "        vertical-align: top;\n",
       "    }\n",
       "\n",
       "    .dataframe thead th {\n",
       "        text-align: right;\n",
       "    }\n",
       "</style>\n",
       "<table border=\"1\" class=\"dataframe\">\n",
       "  <thead>\n",
       "    <tr style=\"text-align: right;\">\n",
       "      <th></th>\n",
       "      <th>Features</th>\n",
       "      <th>Model</th>\n",
       "      <th>Model Size</th>\n",
       "      <th>RSS</th>\n",
       "    </tr>\n",
       "  </thead>\n",
       "  <tbody>\n",
       "    <tr>\n",
       "      <th>2</th>\n",
       "      <td>[Rating]</td>\n",
       "      <td>&lt;statsmodels.regression.linear_model.Regressio...</td>\n",
       "      <td>1</td>\n",
       "      <td>2.143512e+07</td>\n",
       "    </tr>\n",
       "    <tr>\n",
       "      <th>11</th>\n",
       "      <td>[Rating, Income]</td>\n",
       "      <td>&lt;statsmodels.regression.linear_model.Regressio...</td>\n",
       "      <td>2</td>\n",
       "      <td>1.053254e+07</td>\n",
       "    </tr>\n",
       "    <tr>\n",
       "      <th>26</th>\n",
       "      <td>[Rating, Income, d_Student]</td>\n",
       "      <td>&lt;statsmodels.regression.linear_model.Regressio...</td>\n",
       "      <td>3</td>\n",
       "      <td>4.227219e+06</td>\n",
       "    </tr>\n",
       "    <tr>\n",
       "      <th>30</th>\n",
       "      <td>[Rating, Income, d_Student, Limit]</td>\n",
       "      <td>&lt;statsmodels.regression.linear_model.Regressio...</td>\n",
       "      <td>4</td>\n",
       "      <td>4.032502e+06</td>\n",
       "    </tr>\n",
       "    <tr>\n",
       "      <th>38</th>\n",
       "      <td>[Rating, Income, d_Student, Limit, Cards]</td>\n",
       "      <td>&lt;statsmodels.regression.linear_model.Regressio...</td>\n",
       "      <td>5</td>\n",
       "      <td>3.866091e+06</td>\n",
       "    </tr>\n",
       "    <tr>\n",
       "      <th>45</th>\n",
       "      <td>[Rating, Income, d_Student, Limit, Cards, Age]</td>\n",
       "      <td>&lt;statsmodels.regression.linear_model.Regressio...</td>\n",
       "      <td>6</td>\n",
       "      <td>3.821620e+06</td>\n",
       "    </tr>\n",
       "    <tr>\n",
       "      <th>52</th>\n",
       "      <td>[Rating, Income, d_Student, Limit, Cards, Age,...</td>\n",
       "      <td>&lt;statsmodels.regression.linear_model.Regressio...</td>\n",
       "      <td>7</td>\n",
       "      <td>3.810759e+06</td>\n",
       "    </tr>\n",
       "    <tr>\n",
       "      <th>58</th>\n",
       "      <td>[Rating, Income, d_Student, Limit, Cards, Age,...</td>\n",
       "      <td>&lt;statsmodels.regression.linear_model.Regressio...</td>\n",
       "      <td>8</td>\n",
       "      <td>3.800969e+06</td>\n",
       "    </tr>\n",
       "    <tr>\n",
       "      <th>61</th>\n",
       "      <td>[Rating, Income, d_Student, Limit, Cards, Age,...</td>\n",
       "      <td>&lt;statsmodels.regression.linear_model.Regressio...</td>\n",
       "      <td>9</td>\n",
       "      <td>3.794145e+06</td>\n",
       "    </tr>\n",
       "    <tr>\n",
       "      <th>63</th>\n",
       "      <td>[Rating, Income, d_Student, Limit, Cards, Age,...</td>\n",
       "      <td>&lt;statsmodels.regression.linear_model.Regressio...</td>\n",
       "      <td>10</td>\n",
       "      <td>3.789709e+06</td>\n",
       "    </tr>\n",
       "    <tr>\n",
       "      <th>65</th>\n",
       "      <td>[Rating, Income, d_Student, Limit, Cards, Age,...</td>\n",
       "      <td>&lt;statsmodels.regression.linear_model.Regressio...</td>\n",
       "      <td>11</td>\n",
       "      <td>3.786730e+06</td>\n",
       "    </tr>\n",
       "  </tbody>\n",
       "</table>\n",
       "</div>"
      ],
      "text/plain": [
       "                                             Features  \\\n",
       "2                                            [Rating]   \n",
       "11                                   [Rating, Income]   \n",
       "26                        [Rating, Income, d_Student]   \n",
       "30                 [Rating, Income, d_Student, Limit]   \n",
       "38          [Rating, Income, d_Student, Limit, Cards]   \n",
       "45     [Rating, Income, d_Student, Limit, Cards, Age]   \n",
       "52  [Rating, Income, d_Student, Limit, Cards, Age,...   \n",
       "58  [Rating, Income, d_Student, Limit, Cards, Age,...   \n",
       "61  [Rating, Income, d_Student, Limit, Cards, Age,...   \n",
       "63  [Rating, Income, d_Student, Limit, Cards, Age,...   \n",
       "65  [Rating, Income, d_Student, Limit, Cards, Age,...   \n",
       "\n",
       "                                                Model  Model Size  \\\n",
       "2   <statsmodels.regression.linear_model.Regressio...           1   \n",
       "11  <statsmodels.regression.linear_model.Regressio...           2   \n",
       "26  <statsmodels.regression.linear_model.Regressio...           3   \n",
       "30  <statsmodels.regression.linear_model.Regressio...           4   \n",
       "38  <statsmodels.regression.linear_model.Regressio...           5   \n",
       "45  <statsmodels.regression.linear_model.Regressio...           6   \n",
       "52  <statsmodels.regression.linear_model.Regressio...           7   \n",
       "58  <statsmodels.regression.linear_model.Regressio...           8   \n",
       "61  <statsmodels.regression.linear_model.Regressio...           9   \n",
       "63  <statsmodels.regression.linear_model.Regressio...          10   \n",
       "65  <statsmodels.regression.linear_model.Regressio...          11   \n",
       "\n",
       "             RSS  \n",
       "2   2.143512e+07  \n",
       "11  1.053254e+07  \n",
       "26  4.227219e+06  \n",
       "30  4.032502e+06  \n",
       "38  3.866091e+06  \n",
       "45  3.821620e+06  \n",
       "52  3.810759e+06  \n",
       "58  3.800969e+06  \n",
       "61  3.794145e+06  \n",
       "63  3.789709e+06  \n",
       "65  3.786730e+06  "
      ]
     },
     "execution_count": 19,
     "metadata": {},
     "output_type": "execute_result"
    }
   ],
   "source": [
    "Mk_RSS = pd.pivot_table(forward_selection_models,columns='Model Size', values='RSS' ,aggfunc=min).values\n",
    "\n",
    "index_fselection = pd.pivot_table(forward_selection_models, columns='Model Size', values= 'RSS', aggfunc=pd.Series.idxmin).values\n",
    "forward_selection_models.iloc[index_fselection[0].astype(int)]"
   ]
  },
  {
   "cell_type": "code",
   "execution_count": 20,
   "metadata": {},
   "outputs": [
    {
     "data": {
      "text/plain": [
       "[<matplotlib.lines.Line2D at 0x12a96590>]"
      ]
     },
     "execution_count": 20,
     "metadata": {},
     "output_type": "execute_result"
    },
    {
     "data": {
      "image/png": "[encoded data removed]",
      "text/plain": [
       "<matplotlib.figure.Figure at 0x12a75750>"
      ]
     },
     "metadata": {},
     "output_type": "display_data"
    }
   ],
   "source": [
    "plt.figure(figsize=(5,5))\n",
    "plt.scatter(forward_selection_models['Model Size'], forward_selection_models['RSS'], alpha = 0.4, s = 50, edgecolors='grey')\n",
    "plt.plot(range(1,12),Mk_RSS[0], c = 'orange')"
   ]
  },
  {
   "cell_type": "markdown",
   "metadata": {},
   "source": [
    "Forward step wise involves fitting one null model and $p-k$ models in each subsequent iteration. Which results in $1 + p(p+1)/2$ models, Whereas best subset selection involves fitting $2^p$ models. For a dataset with $p=20$ predictors best subset selection will fit $2^{20} = 1,048,576$ models whereas forward stepwise selection only requires fitting 211 models.\n",
    "\n",
    "While forward stepwise selection is computationally efficient, it does not guarantee to find the best model out of $2^p$ models. Since at each iteration $M_k$ the model builds on the parameters selected in the previous iteration $M_{k-1}$, $M_k$ must also contain all the parameters used in $M_{k-1}$ regardless of whether all the parameters in $M_{k-1}$ are useful to the model."
   ]
  },
  {
   "cell_type": "code",
   "execution_count": 21,
   "metadata": {},
   "outputs": [],
   "source": [
    "def backward_selection(df, features, target):\n",
    "    predictors = features[:]\n",
    "    models = []\n",
    "    for i in range(len(features),0,-1):\n",
    "        base_RSS = np.Infinity\n",
    "        for subset in combinations(predictors,i):\n",
    "            X = df[list(subset)]\n",
    "            y = df[target]\n",
    "\n",
    "            model = sm.OLS(y,X).fit()\n",
    "            RSS = sum(model.resid**2)\n",
    "\n",
    "            if RSS <base_RSS:\n",
    "                base_RSS = RSS\n",
    "                predictors = subset\n",
    "\n",
    "            models.append({'Model Size':i, 'Subset':subset, 'Model':model, 'RSS':RSS})\n",
    "    \n",
    "    return pd.DataFrame(models)"
   ]
  },
  {
   "cell_type": "code",
   "execution_count": 22,
   "metadata": {},
   "outputs": [
    {
     "data": {
      "text/html": [
       "<div>\n",
       "<style scoped>\n",
       "    .dataframe tbody tr th:only-of-type {\n",
       "        vertical-align: middle;\n",
       "    }\n",
       "\n",
       "    .dataframe tbody tr th {\n",
       "        vertical-align: top;\n",
       "    }\n",
       "\n",
       "    .dataframe thead th {\n",
       "        text-align: right;\n",
       "    }\n",
       "</style>\n",
       "<table border=\"1\" class=\"dataframe\">\n",
       "  <thead>\n",
       "    <tr style=\"text-align: right;\">\n",
       "      <th></th>\n",
       "      <th>Model</th>\n",
       "      <th>Model Size</th>\n",
       "      <th>RSS</th>\n",
       "      <th>Subset</th>\n",
       "    </tr>\n",
       "  </thead>\n",
       "  <tbody>\n",
       "    <tr>\n",
       "      <th>0</th>\n",
       "      <td>&lt;statsmodels.regression.linear_model.Regressio...</td>\n",
       "      <td>11</td>\n",
       "      <td>5.619638e+06</td>\n",
       "      <td>(Income, Limit, Rating, Cards, Age, Education,...</td>\n",
       "    </tr>\n",
       "    <tr>\n",
       "      <th>1</th>\n",
       "      <td>&lt;statsmodels.regression.linear_model.Regressio...</td>\n",
       "      <td>10</td>\n",
       "      <td>5.641156e+06</td>\n",
       "      <td>(Income, Limit, Rating, Cards, Age, Education,...</td>\n",
       "    </tr>\n",
       "    <tr>\n",
       "      <th>2</th>\n",
       "      <td>&lt;statsmodels.regression.linear_model.Regressio...</td>\n",
       "      <td>10</td>\n",
       "      <td>5.648181e+06</td>\n",
       "      <td>(Income, Limit, Rating, Cards, Age, Education,...</td>\n",
       "    </tr>\n",
       "    <tr>\n",
       "      <th>3</th>\n",
       "      <td>&lt;statsmodels.regression.linear_model.Regressio...</td>\n",
       "      <td>10</td>\n",
       "      <td>5.639400e+06</td>\n",
       "      <td>(Income, Limit, Rating, Cards, Age, Education,...</td>\n",
       "    </tr>\n",
       "    <tr>\n",
       "      <th>4</th>\n",
       "      <td>&lt;statsmodels.regression.linear_model.Regressio...</td>\n",
       "      <td>10</td>\n",
       "      <td>1.217785e+07</td>\n",
       "      <td>(Income, Limit, Rating, Cards, Age, Education,...</td>\n",
       "    </tr>\n",
       "  </tbody>\n",
       "</table>\n",
       "</div>"
      ],
      "text/plain": [
       "                                               Model  Model Size  \\\n",
       "0  <statsmodels.regression.linear_model.Regressio...          11   \n",
       "1  <statsmodels.regression.linear_model.Regressio...          10   \n",
       "2  <statsmodels.regression.linear_model.Regressio...          10   \n",
       "3  <statsmodels.regression.linear_model.Regressio...          10   \n",
       "4  <statsmodels.regression.linear_model.Regressio...          10   \n",
       "\n",
       "            RSS                                             Subset  \n",
       "0  5.619638e+06  (Income, Limit, Rating, Cards, Age, Education,...  \n",
       "1  5.641156e+06  (Income, Limit, Rating, Cards, Age, Education,...  \n",
       "2  5.648181e+06  (Income, Limit, Rating, Cards, Age, Education,...  \n",
       "3  5.639400e+06  (Income, Limit, Rating, Cards, Age, Education,...  \n",
       "4  1.217785e+07  (Income, Limit, Rating, Cards, Age, Education,...  "
      ]
     },
     "execution_count": 22,
     "metadata": {},
     "output_type": "execute_result"
    }
   ],
   "source": [
    "backward_selection_models = backward_selection(credit, features, target)\n",
    "backward_selection_models.head()"
   ]
  },
  {
   "cell_type": "code",
   "execution_count": 23,
   "metadata": {},
   "outputs": [
    {
     "data": {
      "text/html": [
       "<div>\n",
       "<style scoped>\n",
       "    .dataframe tbody tr th:only-of-type {\n",
       "        vertical-align: middle;\n",
       "    }\n",
       "\n",
       "    .dataframe tbody tr th {\n",
       "        vertical-align: top;\n",
       "    }\n",
       "\n",
       "    .dataframe thead th {\n",
       "        text-align: right;\n",
       "    }\n",
       "</style>\n",
       "<table border=\"1\" class=\"dataframe\">\n",
       "  <thead>\n",
       "    <tr style=\"text-align: right;\">\n",
       "      <th></th>\n",
       "      <th>Model</th>\n",
       "      <th>Model Size</th>\n",
       "      <th>RSS</th>\n",
       "      <th>Subset</th>\n",
       "    </tr>\n",
       "  </thead>\n",
       "  <tbody>\n",
       "    <tr>\n",
       "      <th>65</th>\n",
       "      <td>&lt;statsmodels.regression.linear_model.Regressio...</td>\n",
       "      <td>1</td>\n",
       "      <td>2.828499e+07</td>\n",
       "      <td>(Limit,)</td>\n",
       "    </tr>\n",
       "    <tr>\n",
       "      <th>61</th>\n",
       "      <td>&lt;statsmodels.regression.linear_model.Regressio...</td>\n",
       "      <td>2</td>\n",
       "      <td>2.159338e+07</td>\n",
       "      <td>(Income, Limit)</td>\n",
       "    </tr>\n",
       "    <tr>\n",
       "      <th>57</th>\n",
       "      <td>&lt;statsmodels.regression.linear_model.Regressio...</td>\n",
       "      <td>3</td>\n",
       "      <td>1.346988e+07</td>\n",
       "      <td>(Income, Limit, Education)</td>\n",
       "    </tr>\n",
       "    <tr>\n",
       "      <th>54</th>\n",
       "      <td>&lt;statsmodels.regression.linear_model.Regressio...</td>\n",
       "      <td>4</td>\n",
       "      <td>6.993371e+06</td>\n",
       "      <td>(Income, Limit, Education, d_Student)</td>\n",
       "    </tr>\n",
       "    <tr>\n",
       "      <th>49</th>\n",
       "      <td>&lt;statsmodels.regression.linear_model.Regressio...</td>\n",
       "      <td>5</td>\n",
       "      <td>5.936228e+06</td>\n",
       "      <td>(Income, Limit, Age, Education, d_Student)</td>\n",
       "    </tr>\n",
       "    <tr>\n",
       "      <th>42</th>\n",
       "      <td>&lt;statsmodels.regression.linear_model.Regressio...</td>\n",
       "      <td>6</td>\n",
       "      <td>5.895924e+06</td>\n",
       "      <td>(Income, Limit, Rating, Age, Education, d_Stud...</td>\n",
       "    </tr>\n",
       "    <tr>\n",
       "      <th>32</th>\n",
       "      <td>&lt;statsmodels.regression.linear_model.Regressio...</td>\n",
       "      <td>7</td>\n",
       "      <td>5.778031e+06</td>\n",
       "      <td>(Income, Limit, Rating, Cards, Age, Education,...</td>\n",
       "    </tr>\n",
       "    <tr>\n",
       "      <th>22</th>\n",
       "      <td>&lt;statsmodels.regression.linear_model.Regressio...</td>\n",
       "      <td>8</td>\n",
       "      <td>5.680000e+06</td>\n",
       "      <td>(Income, Limit, Rating, Cards, Age, Education,...</td>\n",
       "    </tr>\n",
       "    <tr>\n",
       "      <th>12</th>\n",
       "      <td>&lt;statsmodels.regression.linear_model.Regressio...</td>\n",
       "      <td>9</td>\n",
       "      <td>5.659271e+06</td>\n",
       "      <td>(Income, Limit, Rating, Cards, Age, Education,...</td>\n",
       "    </tr>\n",
       "    <tr>\n",
       "      <th>3</th>\n",
       "      <td>&lt;statsmodels.regression.linear_model.Regressio...</td>\n",
       "      <td>10</td>\n",
       "      <td>5.639400e+06</td>\n",
       "      <td>(Income, Limit, Rating, Cards, Age, Education,...</td>\n",
       "    </tr>\n",
       "    <tr>\n",
       "      <th>0</th>\n",
       "      <td>&lt;statsmodels.regression.linear_model.Regressio...</td>\n",
       "      <td>11</td>\n",
       "      <td>5.619638e+06</td>\n",
       "      <td>(Income, Limit, Rating, Cards, Age, Education,...</td>\n",
       "    </tr>\n",
       "  </tbody>\n",
       "</table>\n",
       "</div>"
      ],
      "text/plain": [
       "                                                Model  Model Size  \\\n",
       "65  <statsmodels.regression.linear_model.Regressio...           1   \n",
       "61  <statsmodels.regression.linear_model.Regressio...           2   \n",
       "57  <statsmodels.regression.linear_model.Regressio...           3   \n",
       "54  <statsmodels.regression.linear_model.Regressio...           4   \n",
       "49  <statsmodels.regression.linear_model.Regressio...           5   \n",
       "42  <statsmodels.regression.linear_model.Regressio...           6   \n",
       "32  <statsmodels.regression.linear_model.Regressio...           7   \n",
       "22  <statsmodels.regression.linear_model.Regressio...           8   \n",
       "12  <statsmodels.regression.linear_model.Regressio...           9   \n",
       "3   <statsmodels.regression.linear_model.Regressio...          10   \n",
       "0   <statsmodels.regression.linear_model.Regressio...          11   \n",
       "\n",
       "             RSS                                             Subset  \n",
       "65  2.828499e+07                                           (Limit,)  \n",
       "61  2.159338e+07                                    (Income, Limit)  \n",
       "57  1.346988e+07                         (Income, Limit, Education)  \n",
       "54  6.993371e+06              (Income, Limit, Education, d_Student)  \n",
       "49  5.936228e+06         (Income, Limit, Age, Education, d_Student)  \n",
       "42  5.895924e+06  (Income, Limit, Rating, Age, Education, d_Stud...  \n",
       "32  5.778031e+06  (Income, Limit, Rating, Cards, Age, Education,...  \n",
       "22  5.680000e+06  (Income, Limit, Rating, Cards, Age, Education,...  \n",
       "12  5.659271e+06  (Income, Limit, Rating, Cards, Age, Education,...  \n",
       "3   5.639400e+06  (Income, Limit, Rating, Cards, Age, Education,...  \n",
       "0   5.619638e+06  (Income, Limit, Rating, Cards, Age, Education,...  "
      ]
     },
     "execution_count": 23,
     "metadata": {},
     "output_type": "execute_result"
    }
   ],
   "source": [
    "Mk_RSS = pd.pivot_table(backward_selection_models,columns='Model Size', values='RSS' ,aggfunc=min).values\n",
    "\n",
    "index_bwselection = pd.pivot_table(backward_selection_models, columns='Model Size', values= 'RSS', aggfunc=pd.Series.idxmin).values\n",
    "backward_selection_models.iloc[index_bwselection[0].astype(int)]"
   ]
  },
  {
   "cell_type": "code",
   "execution_count": 24,
   "metadata": {},
   "outputs": [
    {
     "data": {
      "text/plain": [
       "Text(0,0.5,'RSS')"
      ]
     },
     "execution_count": 24,
     "metadata": {},
     "output_type": "execute_result"
    },
    {
     "data": {
      "image/png": "[encoded data removed]",
      "text/plain": [
       "<matplotlib.figure.Figure at 0x12cfc9d0>"
      ]
     },
     "metadata": {},
     "output_type": "display_data"
    }
   ],
   "source": [
    "plt.scatter(backward_selection_models['Model Size'], backward_selection_models['RSS'], alpha = 0.4, s =40, edgecolors='grey')\n",
    "plt.plot(range(1,12,1), Mk_RSS[0], c = 'orange')\n",
    "plt.gca().invert_xaxis()\n",
    "plt.xlabel('Number of Predictors')\n",
    "plt.ylabel('RSS')"
   ]
  },
  {
   "cell_type": "code",
   "execution_count": 51,
   "metadata": {},
   "outputs": [],
   "source": [
    "best_subset['BIC'] = best_subset.apply(lambda row: row[0].bic,axis=1)\n",
    "best_subset['Adjusted R2'] = best_subset.apply(lambda row: row[0].rsquared_adj,axis=1)"
   ]
  },
  {
   "cell_type": "code",
   "execution_count": 52,
   "metadata": {},
   "outputs": [
    {
     "data": {
      "text/plain": [
       "[<matplotlib.lines.Line2D at 0x1e19c190>]"
      ]
     },
     "execution_count": 52,
     "metadata": {},
     "output_type": "execute_result"
    },
    {
     "data": {
      "image/png": "[encoded data removed]",
      "text/plain": [
       "<matplotlib.figure.Figure at 0x1c851570>"
      ]
     },
     "metadata": {},
     "output_type": "display_data"
    }
   ],
   "source": [
    "plt.plot(best_subset['Model Size'], best_subset['BIC'],marker = '.')\n",
    "plt.plot(best_subset['Model Size'].loc[best_subset['BIC'].idxmin()],best_subset['BIC'].min(), marker = 'X')"
   ]
  },
  {
   "cell_type": "code",
   "execution_count": 53,
   "metadata": {},
   "outputs": [
    {
     "data": {
      "text/plain": [
       "[<matplotlib.lines.Line2D at 0x1e203970>]"
      ]
     },
     "execution_count": 53,
     "metadata": {},
     "output_type": "execute_result"
    },
    {
     "data": {
      "image/png": "[encoded data removed]",
      "text/plain": [
       "<matplotlib.figure.Figure at 0x12d2aa70>"
      ]
     },
     "metadata": {},
     "output_type": "display_data"
    }
   ],
   "source": [
    "plt.plot(best_subset['Model Size'], best_subset['Adjusted R2'], marker = '.')\n",
    "plt.plot(best_subset['Model Size'].loc[best_subset['Adjusted R2'].idxmax()],best_subset['Adjusted R2'].max(), marker = 'X')"
   ]
  },
  {
   "cell_type": "code",
   "execution_count": 159,
   "metadata": {},
   "outputs": [],
   "source": [
    "validation_set_error = []\n",
    "for subset in best_subset['Subset']:\n",
    "    X_train, X_test, y_train, y_test = train_test_split(credit[list(subset)], credit['Balance'],test_size=0.25)\n",
    "\n",
    "    regr = LinearRegression()\n",
    "\n",
    "    model = regr.fit(X_train, y_train)\n",
    "\n",
    "    validation_set_error.append(mean_squared_error(y_test, model.predict(X_test)))"
   ]
  },
  {
   "cell_type": "code",
   "execution_count": 160,
   "metadata": {},
   "outputs": [
    {
     "data": {
      "text/plain": [
       "[<matplotlib.lines.Line2D at 0x1f6c5b10>]"
      ]
     },
     "execution_count": 160,
     "metadata": {},
     "output_type": "execute_result"
    },
    {
     "data": {
      "image/png": "[encoded data removed]",
      "text/plain": [
       "<matplotlib.figure.Figure at 0x1f8eb1f0>"
      ]
     },
     "metadata": {},
     "output_type": "display_data"
    }
   ],
   "source": [
    "plt.plot(neg_mean_squared_error)\n",
    "plt.plot()"
   ]
  },
  {
   "cell_type": "code",
   "execution_count": 166,
   "metadata": {},
   "outputs": [],
   "source": [
    "crossValidationSetError = []\n",
    "for subset in best_subset['Subset']:\n",
    "    regr = LinearRegression()\n",
    "\n",
    "    cv_error = cross_val_score(regr,credit[list(subset)], credit['Balance'],scoring= 'neg_mean_squared_error').mean()\n",
    "\n",
    "    crossValidationSetError.append(-cv_error)"
   ]
  },
  {
   "cell_type": "code",
   "execution_count": 169,
   "metadata": {},
   "outputs": [
    {
     "data": {
      "text/plain": [
       "[<matplotlib.lines.Line2D at 0x1f8bac50>]"
      ]
     },
     "execution_count": 169,
     "metadata": {},
     "output_type": "execute_result"
    },
    {
     "data": {
      "image/png": "[encoded data removed]",
      "text/plain": [
       "<matplotlib.figure.Figure at 0x1f76e890>"
      ]
     },
     "metadata": {},
     "output_type": "display_data"
    }
   ],
   "source": [
    "plt.plot(range(1,12),crossValidationSetError)"
   ]
  },
  {
   "cell_type": "code",
   "execution_count": 170,
   "metadata": {},
   "outputs": [
    {
     "data": {
      "text/plain": [
       "[54857.99588040213,\n",
       " 26702.257894747283,\n",
       " 10788.414936663352,\n",
       " 10094.036352064632,\n",
       " 10068.79328664381,\n",
       " 9950.287364486614,\n",
       " 9947.167790764812,\n",
       " 9950.693450058028,\n",
       " 10002.679303484669,\n",
       " 9990.167453242024,\n",
       " 10062.052549775306]"
      ]
     },
     "execution_count": 170,
     "metadata": {},
     "output_type": "execute_result"
    }
   ],
   "source": [
    "crossValidationSetError"
   ]
  },
  {
   "cell_type": "code",
   "execution_count": 203,
   "metadata": {},
   "outputs": [],
   "source": [
    "from sklearn.linear_model import Ridge, RidgeCV\n",
    "from sklearn.model_selection import StandardScaler"
   ]
  },
  {
   "cell_type": "code",
   "execution_count": 172,
   "metadata": {},
   "outputs": [],
   "source": [
    "StandardScaler.fit_transform()\n",
    "credit[['Income', 'Limit', 'Rating', 'd_Student']]"
   ]
  },
  {
   "cell_type": "code",
   "execution_count": 202,
   "metadata": {},
   "outputs": [
    {
     "name": "stdout",
     "output_type": "stream",
     "text": [
      "Coefficients:\n",
      "\tIncome:-7.944627571471388\n",
      "\tLimit:0.12168145735129379\n",
      "\tRating:2.19045285914015\n",
      "\tStudent;422.65659079760627\n",
      "Coefficients:\n",
      "\tIncome:-7.944570635356614\n",
      "\tLimit:0.12167218883479163\n",
      "\tRating:2.1905800136566835\n",
      "\tStudent;422.5505293525289\n",
      "Coefficients:\n",
      "\tIncome:-7.944002831297336\n",
      "\tLimit:0.1215797595376084\n",
      "\tRating:2.191848045828837\n",
      "\tStudent;421.4928352239231\n",
      "Coefficients:\n",
      "\tIncome:-7.938476278905335\n",
      "\tLimit:0.1206803597927008\n",
      "\tRating:2.2041865905741083\n",
      "\tStudent;411.20001031056563\n",
      "Coefficients:\n",
      "\tIncome:-7.895059264076741\n",
      "\tLimit:0.11363336118687804\n",
      "\tRating:2.3008402958338405\n",
      "\tStudent;330.49365064579825\n",
      "Coefficients:\n",
      "\tIncome:-7.774471454286431\n",
      "\tLimit:0.09469198825486809\n",
      "\tRating:2.55990481288904\n",
      "\tStudent;111.55095863177768\n"
     ]
    }
   ],
   "source": [
    "for alpha in (0.001, 0.01, 0.1, 1, 10, 100):\n",
    "    regr_ridge = Ridge(alpha= alpha)\n",
    "    X = credit[['Income', 'Limit', 'Rating', 'd_Student']]\n",
    "    y = credit['Balance']\n",
    "    regr_ridge.fit(X,y)\n",
    "    print ('Coefficients:\\n\\tIncome:{0}\\n\\tLimit:{1}\\n\\tRating:{2}\\n\\tStudent;{3}'.format(regr_ridge.coef_[0],regr_ridge.coef_[1],regr_ridge.coef_[2],regr_ridge.coef_[3]))"
   ]
  },
  {
   "cell_type": "code",
   "execution_count": 194,
   "metadata": {},
   "outputs": [
    {
     "data": {
      "text/plain": [
       "422.65659079760627"
      ]
     },
     "execution_count": 194,
     "metadata": {},
     "output_type": "execute_result"
    }
   ],
   "source": [
    "regr_ridge.coef_[3]"
   ]
  },
  {
   "cell_type": "code",
   "execution_count": null,
   "metadata": {},
   "outputs": [],
   "source": []
  }
 ],
 "metadata": {
  "kernelspec": {
   "display_name": "Python 3",
   "language": "python",
   "name": "python3"
  },
  "language_info": {
   "codemirror_mode": {
    "name": "ipython",
    "version": 3
   },
   "file_extension": ".py",
   "mimetype": "text/x-python",
   "name": "python",
   "nbconvert_exporter": "python",
   "pygments_lexer": "ipython3",
   "version": "3.6.4"
  }
 },
 "nbformat": 4,
 "nbformat_minor": 2
}
